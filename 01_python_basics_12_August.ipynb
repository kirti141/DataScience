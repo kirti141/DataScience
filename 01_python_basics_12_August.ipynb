{
 "cells": [
  {
   "cell_type": "code",
   "execution_count": 1,
   "id": "2a7cf2b2-c652-4a6f-8b95-580e1d4646f3",
   "metadata": {},
   "outputs": [
    {
     "data": {
      "text/plain": [
       "'C:\\\\Users\\\\rajesh'"
      ]
     },
     "execution_count": 1,
     "metadata": {},
     "output_type": "execute_result"
    }
   ],
   "source": [
    "pwd\n"
   ]
  },
  {
   "cell_type": "code",
   "execution_count": 4,
   "id": "a2e9a3cf-49b8-40af-8925-5839f571bc56",
   "metadata": {},
   "outputs": [
    {
     "name": "stdout",
     "output_type": "stream",
     "text": [
      "hello world\n",
      "welcome\n",
      "good bye\n"
     ]
    }
   ],
   "source": [
    "print(\"hello world\")\n",
    "print(\"welcome\")\n",
    "\n",
    "print(\"good bye\")\n"
   ]
  },
  {
   "cell_type": "code",
   "execution_count": 7,
   "id": "39793d3d-54c6-442f-84a0-6b06514e9f34",
   "metadata": {},
   "outputs": [
    {
     "name": "stdout",
     "output_type": "stream",
     "text": [
      "100\n"
     ]
    }
   ],
   "source": [
    "num1=45\n",
    "num2=55\n",
    "num3=num1+num2\n",
    "print(num3)"
   ]
  },
  {
   "cell_type": "code",
   "execution_count": 9,
   "id": "8c7fc49e-2340-4e15-8aa2-0d31bf1c4b99",
   "metadata": {},
   "outputs": [
    {
     "name": "stdout",
     "output_type": "stream",
     "text": [
      "add\n"
     ]
    }
   ],
   "source": [
    "num1=45\n",
    "num2=55\n",
    "add=num1+num2\n",
    "print('add')"
   ]
  },
  {
   "cell_type": "code",
   "execution_count": 10,
   "id": "d97922d4-6fee-40cd-8568-ddafcdc75621",
   "metadata": {},
   "outputs": [
    {
     "name": "stdout",
     "output_type": "stream",
     "text": [
      "100\n"
     ]
    }
   ],
   "source": [
    "num1=45\n",
    "num2=55\n",
    "add=num1+num2\n",
    "print(add)"
   ]
  },
  {
   "cell_type": "code",
   "execution_count": 139,
   "id": "858c0679-c0f6-4c62-b829-37199e27d427",
   "metadata": {},
   "outputs": [
    {
     "name": "stdout",
     "output_type": "stream",
     "text": [
      "100.09\n"
     ]
    }
   ],
   "source": [
    "num1=45.09\n",
    "num2=55\n",
    "sum=num1+num2\n",
    "print(sum)"
   ]
  },
  {
   "cell_type": "code",
   "execution_count": 138,
   "id": "3d58807a-feeb-4bc9-82ba-eeca8de9d822",
   "metadata": {},
   "outputs": [
    {
     "data": {
      "text/plain": [
       "int"
      ]
     },
     "execution_count": 138,
     "metadata": {},
     "output_type": "execute_result"
    }
   ],
   "source": [
    "type(sum)"
   ]
  },
  {
   "cell_type": "code",
   "execution_count": 18,
   "id": "056632b4-56e0-4c66-a223-9921d4aef47d",
   "metadata": {},
   "outputs": [
    {
     "data": {
      "text/plain": [
       "float"
      ]
     },
     "execution_count": 18,
     "metadata": {},
     "output_type": "execute_result"
    }
   ],
   "source": [
    "type(sum)"
   ]
  },
  {
   "cell_type": "code",
   "execution_count": 142,
   "id": "36d9a515-2d87-4608-8767-cdce6aa8c6f2",
   "metadata": {},
   "outputs": [
    {
     "data": {
      "text/plain": [
       "str"
      ]
     },
     "execution_count": 142,
     "metadata": {},
     "output_type": "execute_result"
    }
   ],
   "source": [
    "name='123@RRRRR'\n",
    "type(name)"
   ]
  },
  {
   "cell_type": "code",
   "execution_count": 143,
   "id": "226136bb-fc79-4f2b-a2dc-754f06522bd5",
   "metadata": {},
   "outputs": [
    {
     "name": "stdout",
     "output_type": "stream",
     "text": [
      "123@RRRRR\n"
     ]
    }
   ],
   "source": [
    "print(name)"
   ]
  },
  {
   "cell_type": "code",
   "execution_count": 144,
   "id": "a5a60329-38aa-47b1-ad3f-28e9294a2490",
   "metadata": {},
   "outputs": [],
   "source": [
    "num1,num2,num3=40,60,'hello'"
   ]
  },
  {
   "cell_type": "code",
   "execution_count": 145,
   "id": "f06ff9b5-6267-4819-b183-3d2298a76987",
   "metadata": {},
   "outputs": [
    {
     "name": "stdout",
     "output_type": "stream",
     "text": [
      "40\n"
     ]
    }
   ],
   "source": [
    "print(num1)"
   ]
  },
  {
   "cell_type": "code",
   "execution_count": 146,
   "id": "b75dd940-884d-4ece-859e-5d363df9ff4c",
   "metadata": {},
   "outputs": [
    {
     "name": "stdout",
     "output_type": "stream",
     "text": [
      "hello\n"
     ]
    }
   ],
   "source": [
    "print(num3)"
   ]
  },
  {
   "cell_type": "code",
   "execution_count": 147,
   "id": "93a47f35-2cc7-46ea-b859-3883edb674f0",
   "metadata": {},
   "outputs": [],
   "source": [
    "num1=num2=num3=67"
   ]
  },
  {
   "cell_type": "code",
   "execution_count": 149,
   "id": "e1567b6f-26b8-45d8-b6a6-b7f2cbc7eb9b",
   "metadata": {},
   "outputs": [
    {
     "name": "stdout",
     "output_type": "stream",
     "text": [
      "67\n"
     ]
    }
   ],
   "source": [
    "print(num1)"
   ]
  },
  {
   "cell_type": "code",
   "execution_count": 36,
   "id": "03ecf8e1-7327-4d57-8c0d-9745bfbc70bd",
   "metadata": {},
   "outputs": [
    {
     "name": "stdout",
     "output_type": "stream",
     "text": [
      "my name is: kirti and my marks are 56\n"
     ]
    }
   ],
   "source": [
    "name=\"kirti\"\n",
    "marks=56\n",
    "print(\"my name is:\" ,name ,\"and my marks are\",marks)\n"
   ]
  },
  {
   "cell_type": "code",
   "execution_count": 154,
   "id": "6b71bbc3-b152-413e-906b-60ce3b432913",
   "metadata": {},
   "outputs": [
    {
     "name": "stdout",
     "output_type": "stream",
     "text": [
      "my name is sunitha and my marks are 99\n"
     ]
    }
   ],
   "source": [
    "Name=\"sunitha\"\n",
    "marks=99\n",
    "print(\"my name is\",Name, \"and my marks are\",marks)"
   ]
  },
  {
   "cell_type": "code",
   "execution_count": 47,
   "id": "f59157e7-b52d-4625-a6c6-05a53a22e2b5",
   "metadata": {},
   "outputs": [
    {
     "name": "stdout",
     "output_type": "stream",
     "text": [
      "my name is  Sajeed my marks are 77.9999999\n"
     ]
    }
   ],
   "source": [
    "Name=\" Sajeed\"\n",
    "Marks=77.9999999\n",
    "print (\"my name is\",Name,\"my marks are\",Marks)"
   ]
  },
  {
   "cell_type": "code",
   "execution_count": 155,
   "id": "9934af6c-563d-4ebd-b95f-36b7e72ee6ff",
   "metadata": {},
   "outputs": [
    {
     "name": "stdout",
     "output_type": "stream",
     "text": [
      "my name is sunitha and my marks :99\n"
     ]
    }
   ],
   "source": [
    "print ('my name is %s and my marks :%i' %(Name,marks))"
   ]
  },
  {
   "cell_type": "code",
   "execution_count": 52,
   "id": "0bbf39d4-7ac5-4ecb-be67-683e74e94f02",
   "metadata": {},
   "outputs": [
    {
     "name": "stdout",
     "output_type": "stream",
     "text": [
      "my name is  Sajeed and my marks :78.000000\n"
     ]
    }
   ],
   "source": [
    "print ('my name is %s and my marks :%f' %(Name,Marks))"
   ]
  },
  {
   "cell_type": "code",
   "execution_count": 53,
   "id": "c0ac057a-2075-4625-a453-642f2c8c8f8e",
   "metadata": {},
   "outputs": [
    {
     "name": "stdout",
     "output_type": "stream",
     "text": [
      "my name is  Sajeed and my marks :78.0\n"
     ]
    }
   ],
   "source": [
    "print ('my name is %s and my marks :%0.1f' %(Name,Marks))"
   ]
  },
  {
   "cell_type": "code",
   "execution_count": 56,
   "id": "1d49e005-db52-4483-b28d-1836f9a3ecb9",
   "metadata": {},
   "outputs": [
    {
     "name": "stdout",
     "output_type": "stream",
     "text": [
      "addition is 100\n"
     ]
    }
   ],
   "source": [
    "#this is my first program\n",
    "num1=45 #Number1\n",
    "num2=55  #number2\n",
    "add=num1+num2 #perform addition\n",
    "print(\"addition is\" ,add)"
   ]
  },
  {
   "cell_type": "code",
   "execution_count": 57,
   "id": "2fd69cf1-35ef-43e8-a1da-49c9ef63d88b",
   "metadata": {},
   "outputs": [
    {
     "name": "stdout",
     "output_type": "stream",
     "text": [
      "addition is 100\n"
     ]
    }
   ],
   "source": [
    "#this is my first program\n",
    "num1=45 ;num2=55;add=num1+num2;print(\"addition is\" ,add)"
   ]
  },
  {
   "cell_type": "code",
   "execution_count": null,
   "id": "dfe82365-0df6-4323-8056-a7d9da2cb7d8",
   "metadata": {},
   "outputs": [],
   "source": []
  },
  {
   "cell_type": "markdown",
   "id": "7dc58773-a1e5-4339-9438-481c2916e9f8",
   "metadata": {},
   "source": [
    "#### Operators\n"
   ]
  },
  {
   "cell_type": "code",
   "execution_count": 59,
   "id": "49754207-6f0c-4433-b9c7-e572d41ab551",
   "metadata": {},
   "outputs": [],
   "source": [
    "num1=67\n",
    "num2=19"
   ]
  },
  {
   "cell_type": "code",
   "execution_count": 72,
   "id": "ee6d95df-d37d-4ab0-834b-b5008016fb4f",
   "metadata": {},
   "outputs": [
    {
     "name": "stdout",
     "output_type": "stream",
     "text": [
      "addition is 86\n",
      "addition is 86\n",
      "sub is 48\n",
      "multiplication is 1273\n",
      "\n",
      "division is 3.526315789473684\n",
      "floor division  is 3\n",
      "module division is 10\n",
      "raised to 49593099428404263766544428188098203\n"
     ]
    }
   ],
   "source": [
    "#Arithmetic operator\n",
    "add=num1+num2\n",
    "print(\"addition is\",add)\n",
    "print(\"addition is\",num1+num2)\n",
    "print(\"sub is\",num1-num2)\n",
    "print(\"multiplication is\",num1*num2)\n",
    "print()\n",
    "print(\"division is\",num1/num2)\n",
    "print(\"floor division  is\",num1//num2)\n",
    "print(\"module division is\",num1%num2)\n",
    "print('raised to',num1**num2)\n"
   ]
  },
  {
   "cell_type": "code",
   "execution_count": 73,
   "id": "779f717d-f3d3-469d-9ac4-291ff04fdf15",
   "metadata": {},
   "outputs": [
    {
     "name": "stdout",
     "output_type": "stream",
     "text": [
      "69\n"
     ]
    }
   ],
   "source": [
    "#Assignment operator\n",
    "num1=67\n",
    "num1+=2\n",
    "print(num1)"
   ]
  },
  {
   "cell_type": "code",
   "execution_count": 74,
   "id": "ea2cffe8-555f-413f-a17d-3476e19e2649",
   "metadata": {},
   "outputs": [
    {
     "name": "stdout",
     "output_type": "stream",
     "text": [
      "65\n"
     ]
    }
   ],
   "source": [
    "num1=67\n",
    "num1-=2\n",
    "print(num1)"
   ]
  },
  {
   "cell_type": "code",
   "execution_count": 75,
   "id": "e711076e-19d2-4c9a-939c-271234c77839",
   "metadata": {},
   "outputs": [
    {
     "name": "stdout",
     "output_type": "stream",
     "text": [
      "134\n"
     ]
    }
   ],
   "source": [
    "num1=67\n",
    "num1*=2\n",
    "print(num1)"
   ]
  },
  {
   "cell_type": "code",
   "execution_count": 76,
   "id": "d845ee64-757f-4f1b-84b1-197fc460e0e6",
   "metadata": {},
   "outputs": [
    {
     "name": "stdout",
     "output_type": "stream",
     "text": [
      "33.5\n"
     ]
    }
   ],
   "source": [
    "num1=67\n",
    "num1/=2\n",
    "print(num1)"
   ]
  },
  {
   "cell_type": "code",
   "execution_count": 78,
   "id": "3ab1b74d-c305-4cc5-9d18-7a3214562dfd",
   "metadata": {},
   "outputs": [
    {
     "name": "stdout",
     "output_type": "stream",
     "text": [
      "24\n"
     ]
    }
   ],
   "source": [
    "num1=12\n",
    "num1*=2\n",
    "print(num1)"
   ]
  },
  {
   "cell_type": "code",
   "execution_count": 79,
   "id": "2d541dcd-0747-4a2d-a541-ce0f09be436e",
   "metadata": {},
   "outputs": [
    {
     "name": "stdout",
     "output_type": "stream",
     "text": [
      "33\n"
     ]
    }
   ],
   "source": [
    "num1=67\n",
    "num1//=2\n",
    "print(num1)"
   ]
  },
  {
   "cell_type": "code",
   "execution_count": 89,
   "id": "92ae1100-41c1-4b4c-bc4a-cf8e74ef3e4c",
   "metadata": {},
   "outputs": [
    {
     "name": "stdout",
     "output_type": "stream",
     "text": [
      "2\n"
     ]
    }
   ],
   "source": [
    "num1=671\n",
    "num1%=3\n",
    "print(num1)"
   ]
  },
  {
   "cell_type": "code",
   "execution_count": 97,
   "id": "9d454256-c78d-4e7a-8e2e-1fdfd85a5317",
   "metadata": {},
   "outputs": [
    {
     "name": "stdout",
     "output_type": "stream",
     "text": [
      "223.66666666666666\n"
     ]
    }
   ],
   "source": [
    "num1=671\n",
    "num1/=3\n",
    "print(num1)"
   ]
  },
  {
   "cell_type": "code",
   "execution_count": 96,
   "id": "8c7b6395-6a97-4424-a913-938cc993ee50",
   "metadata": {},
   "outputs": [
    {
     "name": "stdout",
     "output_type": "stream",
     "text": [
      "greater than True\n",
      "greater than/equal to  True\n",
      "lesser than False\n",
      "lesser than/equal to False\n",
      "equal to False\n",
      "not equal to True\n"
     ]
    }
   ],
   "source": [
    "##Relation operator\n",
    "num1=67\n",
    "num2=19\n",
    "print(\"greater than\",num1>num2)\n",
    "print(\"greater than/equal to \",num1>=num2)\n",
    "print(\"lesser than\",num1<num2)\n",
    "print(\"lesser than/equal to\",num1<=num2)\n",
    "print(\"equal to\",num1==num2)\n",
    "print(\"not equal to\",num1!=num2)\n"
   ]
  },
  {
   "cell_type": "code",
   "execution_count": 101,
   "id": "09360bf1-67d6-4620-ae9d-251942148cc3",
   "metadata": {},
   "outputs": [
    {
     "name": "stdout",
     "output_type": "stream",
     "text": [
      "True\n"
     ]
    }
   ],
   "source": [
    "#Logical operators\n",
    "num1=67\n",
    "num2=19\n",
    "print((\"AND\",num1>num2) and (num1<100))"
   ]
  },
  {
   "cell_type": "code",
   "execution_count": 103,
   "id": "b324182e-9cb8-4ed9-aa49-3403287b803f",
   "metadata": {},
   "outputs": [
    {
     "name": "stdout",
     "output_type": "stream",
     "text": [
      "True\n"
     ]
    }
   ],
   "source": [
    "#Logical operators\n",
    "num1=67\n",
    "num2=19\n",
    "print((\"OR\",num1>num2) and (num1<100))"
   ]
  },
  {
   "cell_type": "code",
   "execution_count": 102,
   "id": "08c2be27-70ba-4c6e-b30a-8cc436948b82",
   "metadata": {},
   "outputs": [
    {
     "name": "stdout",
     "output_type": "stream",
     "text": [
      "False\n"
     ]
    }
   ],
   "source": [
    "#Logical operators\n",
    "num1=67\n",
    "num2=19\n",
    "print((\"AND\",num1>num2) and (num1<10))"
   ]
  },
  {
   "cell_type": "code",
   "execution_count": 114,
   "id": "e67b2db0-4780-4880-988c-3dcf70801c93",
   "metadata": {},
   "outputs": [
    {
     "data": {
      "text/plain": [
       "True"
      ]
     },
     "execution_count": 114,
     "metadata": {},
     "output_type": "execute_result"
    }
   ],
   "source": [
    "#Membership selection operator\n",
    "name=\"Kirti,Sajjid\"\n",
    "'S' in name"
   ]
  },
  {
   "cell_type": "code",
   "execution_count": 109,
   "id": "93fede0c-09b7-4542-9e8c-92a0ea22f071",
   "metadata": {},
   "outputs": [
    {
     "data": {
      "text/plain": [
       "True"
      ]
     },
     "execution_count": 109,
     "metadata": {},
     "output_type": "execute_result"
    }
   ],
   "source": [
    "x=[5,4,3,2,9]\n",
    "9 in x"
   ]
  },
  {
   "cell_type": "code",
   "execution_count": 115,
   "id": "7bc5af03-a2f1-4a7b-bc90-0d88084b0686",
   "metadata": {},
   "outputs": [
    {
     "data": {
      "text/plain": [
       "True"
      ]
     },
     "execution_count": 115,
     "metadata": {},
     "output_type": "execute_result"
    }
   ],
   "source": [
    "19 not in x"
   ]
  },
  {
   "cell_type": "code",
   "execution_count": 117,
   "id": "f9714761-24a8-46fe-8f72-9250cad710d4",
   "metadata": {},
   "outputs": [
    {
     "data": {
      "text/plain": [
       "True"
      ]
     },
     "execution_count": 117,
     "metadata": {},
     "output_type": "execute_result"
    }
   ],
   "source": [
    "x=[5,4,3,2,9,\"Pune\"]\n",
    "'Pune' in x"
   ]
  },
  {
   "cell_type": "markdown",
   "id": "aaa6d70e-39a5-466f-ab9b-c08d3aea4f1a",
   "metadata": {},
   "source": [
    "#### User input"
   ]
  },
  {
   "cell_type": "code",
   "execution_count": 122,
   "id": "f19e6c5f-a261-42fd-8def-f30b879dc603",
   "metadata": {},
   "outputs": [
    {
     "name": "stdin",
     "output_type": "stream",
     "text": [
      "Enter the number 100\n"
     ]
    },
    {
     "name": "stdout",
     "output_type": "stream",
     "text": [
      "you have entered 100100100\n"
     ]
    }
   ],
   "source": [
    "\n",
    "num=input(\"Enter the number\")\n",
    "result=num*3\n",
    "print(\"you have entered\",result)"
   ]
  },
  {
   "cell_type": "code",
   "execution_count": 126,
   "id": "ca1190e4-41b2-4e57-a5e4-f8840da7acca",
   "metadata": {},
   "outputs": [
    {
     "name": "stdin",
     "output_type": "stream",
     "text": [
      "Enter the number 100\n"
     ]
    },
    {
     "name": "stdout",
     "output_type": "stream",
     "text": [
      "you have entered 300\n"
     ]
    }
   ],
   "source": [
    "##Type casting\n",
    "num=int(input(\"Enter the number\"))\n",
    "result=num*3\n",
    "print(\"you have entered\",result)"
   ]
  },
  {
   "cell_type": "code",
   "execution_count": 124,
   "id": "62a993c6-5bf2-4be3-82e4-a81fe16a5f73",
   "metadata": {},
   "outputs": [
    {
     "name": "stdin",
     "output_type": "stream",
     "text": [
      "Enter the number 100.9\n"
     ]
    },
    {
     "name": "stdout",
     "output_type": "stream",
     "text": [
      "you have entered 302.70000000000005\n"
     ]
    }
   ],
   "source": [
    "##Type casting\n",
    "num=float(input(\"Enter the number\"))\n",
    "result=num*3\n",
    "print(\"you have entered\",result)"
   ]
  },
  {
   "cell_type": "code",
   "execution_count": 127,
   "id": "82f3413e-56c8-449b-b055-787e88c41624",
   "metadata": {},
   "outputs": [
    {
     "name": "stdin",
     "output_type": "stream",
     "text": [
      "Enter the number 100\n",
      "Enter the number 200\n"
     ]
    },
    {
     "name": "stdout",
     "output_type": "stream",
     "text": [
      "you have entered 300.0\n"
     ]
    }
   ],
   "source": [
    "##Type casting\n",
    "num1=float(input(\"Enter the number\"))\n",
    "num2=float(input(\"Enter the number\"))\n",
    "num3=num1+num2\n",
    "\n",
    "print(\"you have entered\",num3)"
   ]
  },
  {
   "cell_type": "code",
   "execution_count": 135,
   "id": "dfc8e72c-2a5b-4944-969d-683563b50ffe",
   "metadata": {},
   "outputs": [
    {
     "name": "stdin",
     "output_type": "stream",
     "text": [
      "Enter the number 38\n"
     ]
    },
    {
     "name": "stdout",
     "output_type": "stream",
     "text": [
      "you have entered 100.4\n"
     ]
    }
   ],
   "source": [
    "##Convert Centigrate to Fahrenheit\n",
    "c=int(input(\"Enter the number\"))\n",
    "f=(c*1.8+32)\n",
    "print(\"you have entered\",f)"
   ]
  },
  {
   "cell_type": "code",
   "execution_count": null,
   "id": "aa5e9456-cfd1-4614-b806-7b80eaf13a01",
   "metadata": {},
   "outputs": [],
   "source": []
  }
 ],
 "metadata": {
  "kernelspec": {
   "display_name": "Python 3 (ipykernel)",
   "language": "python",
   "name": "python3"
  },
  "language_info": {
   "codemirror_mode": {
    "name": "ipython",
    "version": 3
   },
   "file_extension": ".py",
   "mimetype": "text/x-python",
   "name": "python",
   "nbconvert_exporter": "python",
   "pygments_lexer": "ipython3",
   "version": "3.12.2"
  }
 },
 "nbformat": 4,
 "nbformat_minor": 5
}
