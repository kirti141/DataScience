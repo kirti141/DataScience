{
 "cells": [
  {
   "cell_type": "code",
   "execution_count": 1,
   "id": "7a51b943-2871-415f-a420-7fa645dd02e8",
   "metadata": {},
   "outputs": [],
   "source": [
    "##Write a program to read Celsius temperature and print equivalent Fahrenheit temperate on screen."
   ]
  },
  {
   "cell_type": "code",
   "execution_count": 3,
   "id": "40003445-9f5b-4667-a486-d214b7996d42",
   "metadata": {},
   "outputs": [
    {
     "name": "stdin",
     "output_type": "stream",
     "text": [
      "Enter the number 35.4\n"
     ]
    },
    {
     "name": "stdout",
     "output_type": "stream",
     "text": [
      "you have entered 95.72\n"
     ]
    }
   ],
   "source": [
    "celsius=float(input(\"Enter the number\"))\n",
    "fahrenheit=(celsius*1.8+32)\n",
    "print(\"you have entered\",fahrenheit)"
   ]
  },
  {
   "cell_type": "code",
   "execution_count": 4,
   "id": "97da3130-30db-48ef-81d2-bf1c99bf93ff",
   "metadata": {},
   "outputs": [],
   "source": [
    "##Read radius of the circle from user and find the area and perimeter of it."
   ]
  },
  {
   "cell_type": "code",
   "execution_count": 6,
   "id": "7ce70470-6142-4271-a6e5-6cafce86da7c",
   "metadata": {},
   "outputs": [
    {
     "name": "stdin",
     "output_type": "stream",
     "text": [
      "Enter the radius in centimetre 3\n"
     ]
    },
    {
     "name": "stdout",
     "output_type": "stream",
     "text": [
      "28.274333882310003\n",
      "18.849555921540002\n"
     ]
    }
   ],
   "source": [
    "radius=float(input(\"Enter the radius in centimetre\"))\n",
    "area=(3.14159265359*radius*radius)\n",
    "perimeter=(2*3.14159265359*radius)\n",
    "print(area)\n",
    "print(perimeter)"
   ]
  },
  {
   "cell_type": "code",
   "execution_count": 7,
   "id": "9fd74412-e69c-48dd-b318-20c3d82161b8",
   "metadata": {},
   "outputs": [],
   "source": [
    "##Read the amount and percentage of interest from the keyboard and find final amount after adding interest in original amount."
   ]
  },
  {
   "cell_type": "code",
   "execution_count": 9,
   "id": "811a6a66-41fa-41e3-b30b-b2c3dc646212",
   "metadata": {},
   "outputs": [
    {
     "name": "stdin",
     "output_type": "stream",
     "text": [
      "Enter the principal borrowed 2000\n",
      "Enter the annual rate of interest 12\n",
      "Enter the time in years 10\n"
     ]
    },
    {
     "name": "stdout",
     "output_type": "stream",
     "text": [
      "2400.0\n"
     ]
    }
   ],
   "source": [
    "principal=float(input(\"Enter the principal borrowed\"))\n",
    "rate=float(input(\"Enter the annual rate of interest\"))\n",
    "time=float(input(\"Enter the time in years\"))\n",
    "amount=((principal*time*rate)/100)\n",
    "print(amount)"
   ]
  },
  {
   "cell_type": "code",
   "execution_count": 10,
   "id": "299653f8-7b29-47f2-9b13-6b99c73218ff",
   "metadata": {},
   "outputs": [],
   "source": [
    "###Write a program to read distance value in meters and convert it into centimeters, inches, and yards."
   ]
  },
  {
   "cell_type": "code",
   "execution_count": 13,
   "id": "82b52c95-4239-4d7e-96ee-e2f4ab8f435b",
   "metadata": {},
   "outputs": [
    {
     "name": "stdin",
     "output_type": "stream",
     "text": [
      "enter value in metre 1\n"
     ]
    },
    {
     "name": "stdout",
     "output_type": "stream",
     "text": [
      "The value of cm is: 100.0 The value of inch is: 39.37 The value of yards is: 1.09361\n"
     ]
    }
   ],
   "source": [
    "metre=float(input('enter value in metre'))\n",
    "cm=(metre*100)\n",
    "inch=(metre*39.37)\n",
    "yard=(metre*1.09361)\n",
    "print(\"The value of cm is:\",cm,\"The value of inch is:\",inch,\"The value of yards is:\",yard)"
   ]
  },
  {
   "cell_type": "code",
   "execution_count": 14,
   "id": "91e637a0-68b3-4415-b9b2-c9f2539f8142",
   "metadata": {},
   "outputs": [],
   "source": [
    "##Write a Python program to calculate profit or loss. Input is selling cost and actual cost of a product."
   ]
  },
  {
   "cell_type": "code",
   "execution_count": 26,
   "id": "3aeeef6a-573e-4fe6-a98b-e7d2fc2bd347",
   "metadata": {},
   "outputs": [
    {
     "name": "stdin",
     "output_type": "stream",
     "text": [
      "enter the cost price 1000\n",
      "enter the selling price 1000\n"
     ]
    },
    {
     "name": "stdout",
     "output_type": "stream",
     "text": [
      "no profit no loss\n"
     ]
    }
   ],
   "source": [
    "cp=float(input('enter the cost price'))\n",
    "sp=float(input('enter the selling price'))\n",
    "if sp>cp:\n",
    "    print('profit')\n",
    "elif sp==cp:\n",
    "    print (\"no profit no loss\")\n",
    "elif sp<cp:\n",
    "    print('loss')"
   ]
  },
  {
   "cell_type": "code",
   "execution_count": 35,
   "id": "c64fc204-0482-43a8-8cb1-f57fe86dc85e",
   "metadata": {},
   "outputs": [],
   "source": [
    "##Write a program to input basic salary and find output of gross salary using following: \n",
    "#DA = 75% of basic\n",
    "#HRA = 20% of basic\n",
    "#Conditions:\n",
    "#Basic < 10000 : gross = da + basic\n",
    "#Basic >= 10000 and < 20000 : gross = da + basic + 50% of hra\n",
    "#Basic >= 20000 : gross = basic + da + hra\n",
    "# Sample: Input and Output\n",
    "# 5000 : 3750 + 5000 = 8750\n",
    "# 12000 : 9000 + 12000 + 1200 = 22200\n",
    "# 24000 : 18000 + 24000 + 4800 = 46800"
   ]
  },
  {
   "cell_type": "code",
   "execution_count": 36,
   "id": "6eb9ea3b-9541-4a33-ab1a-4008b8a0ac1e",
   "metadata": {},
   "outputs": [
    {
     "name": "stdin",
     "output_type": "stream",
     "text": [
      "enter basic salary 24000\n"
     ]
    },
    {
     "name": "stdout",
     "output_type": "stream",
     "text": [
      "salary is: 46800.0\n"
     ]
    }
   ],
   "source": [
    "basic=float(input('enter basic salary'))\n",
    "DA=0.75*basic\n",
    "HRA=0.20*basic\n",
    "if basic<10000:\n",
    "    print('salary is:',DA+basic)\n",
    "elif (basic>=10000) and (basic< 20000):\n",
    "    print (\"salary is:\", DA+basic+0.50*HRA )\n",
    "elif basic >=20000:\n",
    "    print('salary is:', basic+DA+HRA)"
   ]
  },
  {
   "cell_type": "code",
   "execution_count": 37,
   "id": "d671da12-216d-4ea6-8727-3d7f67d048fa",
   "metadata": {},
   "outputs": [],
   "source": [
    "##Write a program to read a number from user and find the factorial of the number.\n",
    "#Example: Factorial for 5 = 5 x 4 x 3 x 2 x 1 = 120"
   ]
  },
  {
   "cell_type": "code",
   "execution_count": 39,
   "id": "d3830299-8586-430f-8b3e-d50e28cac664",
   "metadata": {},
   "outputs": [
    {
     "name": "stdin",
     "output_type": "stream",
     "text": [
      "enter the number 5\n"
     ]
    },
    {
     "name": "stdout",
     "output_type": "stream",
     "text": [
      "the factorial is: 120\n"
     ]
    }
   ],
   "source": [
    "import math\n",
    "number=int(input('enter the number'))\n",
    "fact=(math.factorial(number))\n",
    "print ('the factorial is:',fact)"
   ]
  },
  {
   "cell_type": "code",
   "execution_count": 40,
   "id": "bf9b51b0-991f-4e6d-b166-920611053c6d",
   "metadata": {},
   "outputs": [],
   "source": [
    "##Write a program to read num1 and num2 from keyboard and find addition of all number between that range."
   ]
  },
  {
   "cell_type": "code",
   "execution_count": 42,
   "id": "0d0b5f4c-960a-44c0-8116-dea5b6e1ffd3",
   "metadata": {},
   "outputs": [
    {
     "name": "stdin",
     "output_type": "stream",
     "text": [
      "enter number 1 : 2\n",
      "enter number 2 : 10\n"
     ]
    },
    {
     "name": "stdout",
     "output_type": "stream",
     "text": [
      "the sum of the range is: 44\n"
     ]
    }
   ],
   "source": [
    "num1=int(input('enter number 1 :'))\n",
    "num2=int(input('enter number 2 :'))\n",
    "add=sum(range(num1,num2))\n",
    "print(\"the sum of the range is:\", add)\n"
   ]
  },
  {
   "cell_type": "code",
   "execution_count": 44,
   "id": "f392f196-c333-432c-b83b-1780820ffcd9",
   "metadata": {},
   "outputs": [],
   "source": [
    "##See the tuple given: num = (56,2,35,41,43,48,32,56,71,55,68)\n",
    "##Write a program to create two lists from it where first list contains only even numbers and second will contain only odd numbers."
   ]
  },
  {
   "cell_type": "code",
   "execution_count": 49,
   "id": "d1709d66-85fb-4517-be33-f210f2c408a9",
   "metadata": {},
   "outputs": [
    {
     "name": "stdout",
     "output_type": "stream",
     "text": [
      "Even numbers are: [56, 2, 48, 32, 56, 68]\n",
      "Odd numbers are: [35, 41, 43, 71, 55]\n"
     ]
    }
   ],
   "source": [
    "num = (56, 2, 35, 41, 43, 48, 32, 56, 71, 55, 68)\n",
    "list1 = [n for n in num if n % 2 == 0]\n",
    "list2 = [n for n in num if n % 2 == 1]\n",
    "print('Even numbers are:', list1)\n",
    "print('Odd numbers are:', list2)"
   ]
  },
  {
   "cell_type": "code",
   "execution_count": 50,
   "id": "d4f265a8-924f-4bb5-b856-ba6bac64c715",
   "metadata": {},
   "outputs": [],
   "source": [
    "##Write a program to read a number from user. Create and use a user defined function to check whether it is odd or even?"
   ]
  },
  {
   "cell_type": "code",
   "execution_count": 54,
   "id": "ded6deec-2e47-44a8-89f1-2a983404c052",
   "metadata": {},
   "outputs": [
    {
     "name": "stdin",
     "output_type": "stream",
     "text": [
      "enter the number: 7\n"
     ]
    },
    {
     "name": "stdout",
     "output_type": "stream",
     "text": [
      "odd\n"
     ]
    }
   ],
   "source": [
    "num=int(input('enter the number:'))\n",
    "def odd_even(num):\n",
    "    if num%2==0:\n",
    "        return('even')\n",
    "    else:\n",
    "        return('odd')\n",
    "print(odd_even(num))"
   ]
  },
  {
   "cell_type": "code",
   "execution_count": null,
   "id": "22df019f-38bf-40bb-b9b3-4ac12ceeb4b5",
   "metadata": {},
   "outputs": [],
   "source": [
    "#Write a program to read a number from user and find the square root, sin, tan, log and factorial of this number using math module."
   ]
  },
  {
   "cell_type": "code",
   "execution_count": 59,
   "id": "8b2b6502-7201-441e-ac53-fabf5de96eae",
   "metadata": {},
   "outputs": [
    {
     "name": "stdin",
     "output_type": "stream",
     "text": [
      "enter the number: 9\n"
     ]
    },
    {
     "data": {
      "text/plain": [
       "(3.0, 0.4121184852417566, -0.45231565944180985, 2.1972245773362196, 362880)"
      ]
     },
     "execution_count": 59,
     "metadata": {},
     "output_type": "execute_result"
    }
   ],
   "source": [
    "import math\n",
    "num=int(input('enter the number:'))\n",
    "math.sqrt(num), math.sin(num), math.tan(num), math.log(num), math.factorial(num)\n"
   ]
  },
  {
   "cell_type": "code",
   "execution_count": 60,
   "id": "958ae2bc-7f42-47b1-8107-4494c8dbd41c",
   "metadata": {},
   "outputs": [],
   "source": [
    "##Write a Python class named ‘Rectangle’ with two attributes length and width and a method named ‘calculate’ which will compute \n",
    "#the area of a rectangle. Create an object to pass length and width and call the method to calculate the area of rectangle. "
   ]
  },
  {
   "cell_type": "code",
   "execution_count": 78,
   "id": "e6da46e2-c2f9-4182-9aaa-33c825c7c2cc",
   "metadata": {},
   "outputs": [],
   "source": [
    "class Rectangle:\n",
    "    #constructor\n",
    "    def __init__(self,n,a):\n",
    "        self.length = n  #instance variables\n",
    "        self.width = a     ## name and age are attributes/properties \n",
    "    def show(self): ##function/behavior\n",
    "            print(\"length\", self.length, 'width',self.width)\n",
    "    def calculate(self):\n",
    "        area=self.length*self.width\n",
    "        print (\"area of rectangle:\", area)\n",
    "        return area"
   ]
  },
  {
   "cell_type": "code",
   "execution_count": 79,
   "id": "ed054776-f5a5-4dc8-a4a0-93ca2f833cd6",
   "metadata": {},
   "outputs": [],
   "source": [
    "##create the object\n",
    "ob1=Rectangle(10,30)"
   ]
  },
  {
   "cell_type": "code",
   "execution_count": 80,
   "id": "7823fe91-766d-4c8e-973d-34cc7177e110",
   "metadata": {},
   "outputs": [
    {
     "name": "stdout",
     "output_type": "stream",
     "text": [
      "length 10 width 30\n",
      "area of rectangle: 300\n"
     ]
    },
    {
     "data": {
      "text/plain": [
       "300"
      ]
     },
     "execution_count": 80,
     "metadata": {},
     "output_type": "execute_result"
    }
   ],
   "source": [
    "ob1.show()\n",
    "ob1.calculate()"
   ]
  }
 ],
 "metadata": {
  "kernelspec": {
   "display_name": "Python 3 (ipykernel)",
   "language": "python",
   "name": "python3"
  },
  "language_info": {
   "codemirror_mode": {
    "name": "ipython",
    "version": 3
   },
   "file_extension": ".py",
   "mimetype": "text/x-python",
   "name": "python",
   "nbconvert_exporter": "python",
   "pygments_lexer": "ipython3",
   "version": "3.12.2"
  }
 },
 "nbformat": 4,
 "nbformat_minor": 5
}
