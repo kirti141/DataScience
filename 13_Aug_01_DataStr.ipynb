{
 "cells": [
  {
   "cell_type": "code",
   "execution_count": 1,
   "id": "5baddbc3-af03-4e2a-b351-8ea4563faa9b",
   "metadata": {},
   "outputs": [
    {
     "data": {
      "text/plain": [
       "'C:\\\\Users\\\\rajesh'"
      ]
     },
     "execution_count": 1,
     "metadata": {},
     "output_type": "execute_result"
    }
   ],
   "source": [
    "pwd"
   ]
  },
  {
   "cell_type": "code",
   "execution_count": 3,
   "id": "3d8955e3-522f-492a-86d2-af844d15be54",
   "metadata": {},
   "outputs": [
    {
     "data": {
      "text/plain": [
       "list"
      ]
     },
     "execution_count": 3,
     "metadata": {},
     "output_type": "execute_result"
    }
   ],
   "source": [
    "num=[45,24,66,67,78]\n",
    "type(num)"
   ]
  },
  {
   "cell_type": "code",
   "execution_count": 5,
   "id": "b6056304-9919-470c-befb-73f31601f2c3",
   "metadata": {},
   "outputs": [
    {
     "data": {
      "text/plain": [
       "tuple"
      ]
     },
     "execution_count": 5,
     "metadata": {},
     "output_type": "execute_result"
    }
   ],
   "source": [
    "num=(45,24,66,67,78)\n",
    "type(num)"
   ]
  },
  {
   "cell_type": "code",
   "execution_count": 7,
   "id": "0f2bfebf-bc20-4b35-affc-7ad310ebe379",
   "metadata": {},
   "outputs": [
    {
     "data": {
      "text/plain": [
       "set"
      ]
     },
     "execution_count": 7,
     "metadata": {},
     "output_type": "execute_result"
    }
   ],
   "source": [
    "num={45,24,66,67,78}\n",
    "type(num)"
   ]
  },
  {
   "cell_type": "code",
   "execution_count": 15,
   "id": "2ee09b9c-3066-4c02-b686-13062e89a99e",
   "metadata": {},
   "outputs": [
    {
     "data": {
      "text/plain": [
       "dict"
      ]
     },
     "execution_count": 15,
     "metadata": {},
     "output_type": "execute_result"
    }
   ],
   "source": [
    "num={45:24,66:67,78:66}\n",
    "type(num)"
   ]
  },
  {
   "cell_type": "markdown",
   "id": "8ea3511d-0a6d-4fcf-87d4-169bd6e48285",
   "metadata": {},
   "source": [
    "#### List"
   ]
  },
  {
   "cell_type": "code",
   "execution_count": 19,
   "id": "8b874e15-5de2-4028-a927-00758cc44347",
   "metadata": {},
   "outputs": [],
   "source": [
    "###List is mutable, contains heterogenous data, indexable,iterable"
   ]
  },
  {
   "cell_type": "code",
   "execution_count": 25,
   "id": "3c1ac635-f7ba-4fa3-89d3-131b91af3694",
   "metadata": {},
   "outputs": [
    {
     "data": {
      "text/plain": [
       "list"
      ]
     },
     "execution_count": 25,
     "metadata": {},
     "output_type": "execute_result"
    }
   ],
   "source": [
    "num=[45,24,66,67,78]\n",
    "type(num)"
   ]
  },
  {
   "cell_type": "code",
   "execution_count": 27,
   "id": "502d2c08-20e2-47be-84a8-f6617b1c3fb0",
   "metadata": {},
   "outputs": [
    {
     "data": {
      "text/plain": [
       "45"
      ]
     },
     "execution_count": 27,
     "metadata": {},
     "output_type": "execute_result"
    }
   ],
   "source": [
    "num[0]"
   ]
  },
  {
   "cell_type": "code",
   "execution_count": 33,
   "id": "19c8b15e-8cb8-458a-92a5-3b3e8e2cde11",
   "metadata": {},
   "outputs": [
    {
     "data": {
      "text/plain": [
       "True"
      ]
     },
     "execution_count": 33,
     "metadata": {},
     "output_type": "execute_result"
    }
   ],
   "source": [
    "num[0]=100"
   ]
  },
  {
   "cell_type": "code",
   "execution_count": 35,
   "id": "28814380-30f4-4715-8f81-2dc71ffe11f6",
   "metadata": {},
   "outputs": [
    {
     "data": {
      "text/plain": [
       "100"
      ]
     },
     "execution_count": 35,
     "metadata": {},
     "output_type": "execute_result"
    }
   ],
   "source": [
    "num[0]"
   ]
  },
  {
   "cell_type": "code",
   "execution_count": 37,
   "id": "a111f872-5d4d-461f-8513-d634b337a4c7",
   "metadata": {},
   "outputs": [
    {
     "data": {
      "text/plain": [
       "[100, 24, 66, 67, 78]"
      ]
     },
     "execution_count": 37,
     "metadata": {},
     "output_type": "execute_result"
    }
   ],
   "source": [
    "num"
   ]
  },
  {
   "cell_type": "code",
   "execution_count": 47,
   "id": "79921295-3d12-4299-9c02-5c00becd744e",
   "metadata": {},
   "outputs": [
    {
     "data": {
      "text/plain": [
       "[45, 67, 88.9, 'kirti', True]"
      ]
     },
     "execution_count": 47,
     "metadata": {},
     "output_type": "execute_result"
    }
   ],
   "source": [
    "mixed=[45,67,88.9,'kirti',True]\n",
    "mixed"
   ]
  },
  {
   "cell_type": "code",
   "execution_count": 49,
   "id": "8b569754-98d6-48e5-96b7-c94bed4d8c7b",
   "metadata": {},
   "outputs": [
    {
     "data": {
      "text/plain": [
       "67"
      ]
     },
     "execution_count": 49,
     "metadata": {},
     "output_type": "execute_result"
    }
   ],
   "source": [
    "num[-2]"
   ]
  },
  {
   "cell_type": "code",
   "execution_count": 51,
   "id": "67cae267-8fa9-409c-9f95-72d6aaded678",
   "metadata": {},
   "outputs": [
    {
     "data": {
      "text/plain": [
       "'kirti'"
      ]
     },
     "execution_count": 51,
     "metadata": {},
     "output_type": "execute_result"
    }
   ],
   "source": [
    "mixed[-2]"
   ]
  },
  {
   "cell_type": "code",
   "execution_count": 55,
   "id": "1a809b57-5688-4ffa-95e2-b3316273a7a2",
   "metadata": {},
   "outputs": [
    {
     "name": "stdout",
     "output_type": "stream",
     "text": [
      "100\n",
      "24\n",
      "66\n",
      "67\n",
      "78\n"
     ]
    }
   ],
   "source": [
    "for n in num:\n",
    "    print(n)"
   ]
  },
  {
   "cell_type": "code",
   "execution_count": 73,
   "id": "6acf40f3-2c51-431b-9ee0-f9beb6aaf3ce",
   "metadata": {},
   "outputs": [
    {
     "name": "stdout",
     "output_type": "stream",
     "text": [
      "67\n"
     ]
    }
   ],
   "source": [
    "for n in num:\n",
    "    if n%2==1:\n",
    "        print(n)"
   ]
  },
  {
   "cell_type": "code",
   "execution_count": 75,
   "id": "7e9ad73f-951d-452f-8616-37d3f8fc0c47",
   "metadata": {},
   "outputs": [
    {
     "name": "stdout",
     "output_type": "stream",
     "text": [
      "100\n",
      "24\n",
      "66\n",
      "78\n"
     ]
    }
   ],
   "source": [
    "for n in num:\n",
    "    if n%2==0:\n",
    "        print(n)"
   ]
  },
  {
   "cell_type": "code",
   "execution_count": 83,
   "id": "550531a5-393c-4ab9-8169-516585985dd7",
   "metadata": {},
   "outputs": [
    {
     "data": {
      "text/plain": [
       "True"
      ]
     },
     "execution_count": 83,
     "metadata": {},
     "output_type": "execute_result"
    }
   ],
   "source": [
    "67 in num"
   ]
  },
  {
   "cell_type": "code",
   "execution_count": 85,
   "id": "26491af9-941b-41f7-bca7-45bf89e76166",
   "metadata": {},
   "outputs": [
    {
     "data": {
      "text/plain": [
       "True"
      ]
     },
     "execution_count": 85,
     "metadata": {},
     "output_type": "execute_result"
    }
   ],
   "source": [
    "38 not in num"
   ]
  },
  {
   "cell_type": "code",
   "execution_count": 92,
   "id": "1371d2e9-8ff3-45ab-bae2-d6dc5cf844ef",
   "metadata": {},
   "outputs": [],
   "source": [
    "e=[]"
   ]
  },
  {
   "cell_type": "code",
   "execution_count": 94,
   "id": "f8b6904a-e87f-44a4-8f72-654fbfa1a6ef",
   "metadata": {},
   "outputs": [
    {
     "data": {
      "text/plain": [
       "list"
      ]
     },
     "execution_count": 94,
     "metadata": {},
     "output_type": "execute_result"
    }
   ],
   "source": [
    "type(e)"
   ]
  },
  {
   "cell_type": "markdown",
   "id": "e43e012f-35ba-4d23-be28-e10678dfc583",
   "metadata": {},
   "source": [
    "##### List is appendable"
   ]
  },
  {
   "cell_type": "code",
   "execution_count": 113,
   "id": "e99b80a0-56f6-4257-be16-45269f9317b2",
   "metadata": {},
   "outputs": [],
   "source": [
    "e+=[26]"
   ]
  },
  {
   "cell_type": "code",
   "execution_count": 115,
   "id": "d4006258-20a6-4930-969a-7a71777cb3e4",
   "metadata": {},
   "outputs": [
    {
     "data": {
      "text/plain": [
       "[26, 26, 26, 26]"
      ]
     },
     "execution_count": 115,
     "metadata": {},
     "output_type": "execute_result"
    }
   ],
   "source": [
    "e"
   ]
  },
  {
   "cell_type": "code",
   "execution_count": 117,
   "id": "4937d93d-756d-4409-93cb-a5ffdf6b1079",
   "metadata": {},
   "outputs": [],
   "source": [
    "e+=[260]"
   ]
  },
  {
   "cell_type": "code",
   "execution_count": 119,
   "id": "02d69c70-3916-45db-9a5e-45d97f5c409b",
   "metadata": {},
   "outputs": [
    {
     "data": {
      "text/plain": [
       "[26, 26, 26, 26, 260]"
      ]
     },
     "execution_count": 119,
     "metadata": {},
     "output_type": "execute_result"
    }
   ],
   "source": [
    "e"
   ]
  },
  {
   "cell_type": "code",
   "execution_count": 121,
   "id": "7e7a68fb-8dbe-4a9b-80fa-5b77a1b154f2",
   "metadata": {},
   "outputs": [],
   "source": [
    "##We can slice the list"
   ]
  },
  {
   "cell_type": "code",
   "execution_count": 127,
   "id": "2779ea38-2dfe-4b70-b6a1-94eb8bfa47b3",
   "metadata": {},
   "outputs": [],
   "source": [
    "x=num[3:6]"
   ]
  },
  {
   "cell_type": "code",
   "execution_count": 129,
   "id": "4fc97305-066f-40ec-ad48-fcca40cd0931",
   "metadata": {},
   "outputs": [
    {
     "data": {
      "text/plain": [
       "[67, 78]"
      ]
     },
     "execution_count": 129,
     "metadata": {},
     "output_type": "execute_result"
    }
   ],
   "source": [
    "x"
   ]
  },
  {
   "cell_type": "code",
   "execution_count": 131,
   "id": "8c607b59-34f4-4508-b14a-cf9983988808",
   "metadata": {},
   "outputs": [
    {
     "data": {
      "text/plain": [
       "[100, 24, 66, 67, 78]"
      ]
     },
     "execution_count": 131,
     "metadata": {},
     "output_type": "execute_result"
    }
   ],
   "source": [
    "num"
   ]
  },
  {
   "cell_type": "code",
   "execution_count": 133,
   "id": "624995a1-a99d-4c44-929b-74cde3e679df",
   "metadata": {},
   "outputs": [],
   "source": [
    "##slicing is possible for all data str."
   ]
  },
  {
   "cell_type": "code",
   "execution_count": 139,
   "id": "ec1c4e5e-7ba6-4153-a2cb-a06f3a690f5b",
   "metadata": {},
   "outputs": [
    {
     "data": {
      "text/plain": [
       "[45, 67]"
      ]
     },
     "execution_count": 139,
     "metadata": {},
     "output_type": "execute_result"
    }
   ],
   "source": [
    "num[5:]"
   ]
  },
  {
   "cell_type": "code",
   "execution_count": 137,
   "id": "206c8f03-124f-4549-9484-a23ee44d82eb",
   "metadata": {},
   "outputs": [],
   "source": [
    "num=[33,89,89,78,89,45,67]"
   ]
  },
  {
   "cell_type": "code",
   "execution_count": 141,
   "id": "c4203903-5b42-4c4b-8639-a4758e5e252d",
   "metadata": {},
   "outputs": [
    {
     "data": {
      "text/plain": [
       "[33, 89, 89, 78, 89]"
      ]
     },
     "execution_count": 141,
     "metadata": {},
     "output_type": "execute_result"
    }
   ],
   "source": [
    "num[:5]"
   ]
  },
  {
   "cell_type": "code",
   "execution_count": 143,
   "id": "c8380c4a-596f-4552-a536-73af32793fb8",
   "metadata": {},
   "outputs": [
    {
     "data": {
      "text/plain": [
       "[4, 5, 6, 8, 9, 0]"
      ]
     },
     "execution_count": 143,
     "metadata": {},
     "output_type": "execute_result"
    }
   ],
   "source": [
    "num1=[4,5,6]\n",
    "num2=[8,9,0]\n",
    "x=num1+num2\n",
    "x"
   ]
  },
  {
   "cell_type": "code",
   "execution_count": 149,
   "id": "20ecb562-2ce7-42b1-89f4-d05eff58e449",
   "metadata": {},
   "outputs": [
    {
     "data": {
      "text/plain": [
       "[4, 5, 6, 8, 9, 0]"
      ]
     },
     "execution_count": 149,
     "metadata": {},
     "output_type": "execute_result"
    }
   ],
   "source": [
    "num1=[4,5,6]\n",
    "num2=[8,9,0]\n",
    "x=num1+num2\n",
    "x"
   ]
  },
  {
   "cell_type": "code",
   "execution_count": 151,
   "id": "8a76e59b-41d1-4456-955b-221861819a9f",
   "metadata": {},
   "outputs": [
    {
     "data": {
      "text/plain": [
       "[4, 5, 6, 4, 5, 6, 4, 5, 6]"
      ]
     },
     "execution_count": 151,
     "metadata": {},
     "output_type": "execute_result"
    }
   ],
   "source": [
    "num1*3"
   ]
  },
  {
   "cell_type": "code",
   "execution_count": 157,
   "id": "67a2dd35-d0b7-43a8-aede-1c4721e30095",
   "metadata": {},
   "outputs": [
    {
     "data": {
      "text/plain": [
       "6"
      ]
     },
     "execution_count": 157,
     "metadata": {},
     "output_type": "execute_result"
    }
   ],
   "source": [
    "len(x)"
   ]
  },
  {
   "cell_type": "code",
   "execution_count": 159,
   "id": "41dfeaeb-9c1c-4324-9246-85b8e7819d78",
   "metadata": {},
   "outputs": [
    {
     "data": {
      "text/plain": [
       "(33, 89, 490)"
      ]
     },
     "execution_count": 159,
     "metadata": {},
     "output_type": "execute_result"
    }
   ],
   "source": [
    "min(num),max(num),sum(num)"
   ]
  },
  {
   "cell_type": "code",
   "execution_count": 161,
   "id": "b6bc645d-a4f1-4bea-ad80-37d0272d160f",
   "metadata": {},
   "outputs": [
    {
     "data": {
      "text/plain": [
       "[33, 89, 89, 78, 89, 45, 67]"
      ]
     },
     "execution_count": 161,
     "metadata": {},
     "output_type": "execute_result"
    }
   ],
   "source": [
    "num"
   ]
  },
  {
   "cell_type": "code",
   "execution_count": 212,
   "id": "77c032bc-af35-4017-92ec-2758a9191904",
   "metadata": {},
   "outputs": [
    {
     "data": {
      "text/plain": [
       "[45, 67, 89, 89, 1000, 1000]"
      ]
     },
     "execution_count": 212,
     "metadata": {},
     "output_type": "execute_result"
    }
   ],
   "source": [
    "##Temporary sorting\n",
    "sorted(num)"
   ]
  },
  {
   "cell_type": "code",
   "execution_count": 167,
   "id": "e6358d97-9f33-4612-9d85-42acea3f2d92",
   "metadata": {},
   "outputs": [
    {
     "data": {
      "text/plain": [
       "[89, 89, 89, 78, 67, 45, 33]"
      ]
     },
     "execution_count": 167,
     "metadata": {},
     "output_type": "execute_result"
    }
   ],
   "source": [
    "sorted(num,reverse=True)"
   ]
  },
  {
   "cell_type": "code",
   "execution_count": 169,
   "id": "6ef187d1-da58-4f37-99db-c339f0d5a319",
   "metadata": {},
   "outputs": [
    {
     "data": {
      "text/plain": [
       "[33, 45, 67, 78, 89, 89, 89]"
      ]
     },
     "execution_count": 169,
     "metadata": {},
     "output_type": "execute_result"
    }
   ],
   "source": [
    "sorted(num,reverse=False)"
   ]
  },
  {
   "cell_type": "code",
   "execution_count": 171,
   "id": "995bba22-1218-4078-bb26-2bae510ad0fa",
   "metadata": {},
   "outputs": [
    {
     "data": {
      "text/plain": [
       "[33, 89, 89, 78, 89, 45, 67]"
      ]
     },
     "execution_count": 171,
     "metadata": {},
     "output_type": "execute_result"
    }
   ],
   "source": [
    "num"
   ]
  },
  {
   "cell_type": "code",
   "execution_count": 173,
   "id": "b53cdf25-26e3-4545-a165-4c095e8beda4",
   "metadata": {},
   "outputs": [],
   "source": [
    "num.append(1000)"
   ]
  },
  {
   "cell_type": "code",
   "execution_count": 175,
   "id": "315227b8-1b38-48ae-9a28-df4758c795fb",
   "metadata": {},
   "outputs": [
    {
     "data": {
      "text/plain": [
       "[33, 89, 89, 78, 89, 45, 67, 1000]"
      ]
     },
     "execution_count": 175,
     "metadata": {},
     "output_type": "execute_result"
    }
   ],
   "source": [
    "num"
   ]
  },
  {
   "cell_type": "code",
   "execution_count": 177,
   "id": "6e5561ba-ecba-4f4f-97b0-dc83bb8a70e5",
   "metadata": {},
   "outputs": [],
   "source": [
    "num.remove(1000)"
   ]
  },
  {
   "cell_type": "code",
   "execution_count": 179,
   "id": "8616e23c-828c-4e94-b620-52a98f593780",
   "metadata": {},
   "outputs": [
    {
     "data": {
      "text/plain": [
       "[33, 89, 89, 78, 89, 45, 67]"
      ]
     },
     "execution_count": 179,
     "metadata": {},
     "output_type": "execute_result"
    }
   ],
   "source": [
    "num"
   ]
  },
  {
   "cell_type": "code",
   "execution_count": 181,
   "id": "a19e365d-8e45-4a7b-bdc6-fdf912d74796",
   "metadata": {},
   "outputs": [],
   "source": [
    "num.remove(33)"
   ]
  },
  {
   "cell_type": "code",
   "execution_count": 183,
   "id": "c99f9fe0-3c51-437b-9c1a-f2fb9e4d7c77",
   "metadata": {},
   "outputs": [
    {
     "data": {
      "text/plain": [
       "[89, 89, 78, 89, 45, 67]"
      ]
     },
     "execution_count": 183,
     "metadata": {},
     "output_type": "execute_result"
    }
   ],
   "source": [
    "num"
   ]
  },
  {
   "cell_type": "code",
   "execution_count": 189,
   "id": "31b290e9-54a1-40fa-82cd-e3c4a6329225",
   "metadata": {},
   "outputs": [],
   "source": [
    "y=num.pop(2)"
   ]
  },
  {
   "cell_type": "code",
   "execution_count": 187,
   "id": "d8c64a61-a13e-4b7f-8693-26e805673605",
   "metadata": {},
   "outputs": [
    {
     "data": {
      "text/plain": [
       "[89, 89, 89, 45, 67]"
      ]
     },
     "execution_count": 187,
     "metadata": {},
     "output_type": "execute_result"
    }
   ],
   "source": [
    "num"
   ]
  },
  {
   "cell_type": "code",
   "execution_count": 191,
   "id": "4159ed2c-1969-4075-bba3-1220be1cb2bd",
   "metadata": {},
   "outputs": [
    {
     "data": {
      "text/plain": [
       "89"
      ]
     },
     "execution_count": 191,
     "metadata": {},
     "output_type": "execute_result"
    }
   ],
   "source": [
    "y"
   ]
  },
  {
   "cell_type": "code",
   "execution_count": 201,
   "id": "ffc8c829-939d-41a2-86b0-991f4dec5834",
   "metadata": {},
   "outputs": [],
   "source": [
    "num.insert(3,1000)"
   ]
  },
  {
   "cell_type": "code",
   "execution_count": 203,
   "id": "be09ebef-a39c-4d81-9d98-39226a96ebf6",
   "metadata": {},
   "outputs": [
    {
     "data": {
      "text/plain": [
       "[89, 89, 45, 1000, 1000, 67]"
      ]
     },
     "execution_count": 203,
     "metadata": {},
     "output_type": "execute_result"
    }
   ],
   "source": [
    "num"
   ]
  },
  {
   "cell_type": "code",
   "execution_count": 205,
   "id": "5d9fcde3-ed09-49db-94ca-cbb542a8c0bc",
   "metadata": {},
   "outputs": [
    {
     "data": {
      "text/plain": [
       "[67, 1000, 1000, 45, 89, 89]"
      ]
     },
     "execution_count": 205,
     "metadata": {},
     "output_type": "execute_result"
    }
   ],
   "source": [
    "num.reverse()\n",
    "num"
   ]
  },
  {
   "cell_type": "code",
   "execution_count": 209,
   "id": "ec987bee-113c-4787-a864-58f9eb86f096",
   "metadata": {},
   "outputs": [
    {
     "data": {
      "text/plain": [
       "[45, 67, 89, 89, 1000, 1000]"
      ]
     },
     "execution_count": 209,
     "metadata": {},
     "output_type": "execute_result"
    }
   ],
   "source": [
    "##Permanent sorting, cannot be reversed back\n",
    "num.sort()\n",
    "num"
   ]
  },
  {
   "cell_type": "code",
   "execution_count": 214,
   "id": "176c6524-ed1c-4891-acc9-c6623bcbd5a8",
   "metadata": {},
   "outputs": [
    {
     "data": {
      "text/plain": [
       "[]"
      ]
     },
     "execution_count": 214,
     "metadata": {},
     "output_type": "execute_result"
    }
   ],
   "source": [
    "num.clear()\n",
    "num"
   ]
  },
  {
   "cell_type": "code",
   "execution_count": 216,
   "id": "247c9be3-ec81-4085-8441-49a2b790d591",
   "metadata": {},
   "outputs": [
    {
     "data": {
      "text/plain": [
       "[]"
      ]
     },
     "execution_count": 216,
     "metadata": {},
     "output_type": "execute_result"
    }
   ],
   "source": [
    "num"
   ]
  },
  {
   "cell_type": "code",
   "execution_count": 220,
   "id": "1dbde0ec-2e4c-4d54-8ebf-9b4413e05bb4",
   "metadata": {},
   "outputs": [],
   "source": [
    "del num"
   ]
  },
  {
   "cell_type": "code",
   "execution_count": 222,
   "id": "f2ad832e-4ed6-4732-b310-a33584f7e928",
   "metadata": {},
   "outputs": [
    {
     "ename": "NameError",
     "evalue": "name 'num' is not defined",
     "output_type": "error",
     "traceback": [
      "\u001b[1;31m---------------------------------------------------------------------------\u001b[0m",
      "\u001b[1;31mNameError\u001b[0m                                 Traceback (most recent call last)",
      "Cell \u001b[1;32mIn[222], line 1\u001b[0m\n\u001b[1;32m----> 1\u001b[0m num\n",
      "\u001b[1;31mNameError\u001b[0m: name 'num' is not defined"
     ]
    }
   ],
   "source": [
    "num"
   ]
  },
  {
   "cell_type": "code",
   "execution_count": 286,
   "id": "124048a9-b4d8-4763-980a-fcba385eae51",
   "metadata": {},
   "outputs": [],
   "source": [
    "metals=['silver','gold','copper','aluminium',\n",
    "        'silver','gold','copper','aluminium',\n",
    "       'silver','gold','copper','aluminium']"
   ]
  },
  {
   "cell_type": "code",
   "execution_count": 226,
   "id": "e7c22059-b9fc-4da6-b5b9-d3a25d709316",
   "metadata": {},
   "outputs": [
    {
     "data": {
      "text/plain": [
       "['silver',\n",
       " 'gold',\n",
       " 'copper',\n",
       " 'aluminium',\n",
       " 'silver',\n",
       " 'gold',\n",
       " 'copper',\n",
       " 'aluminium',\n",
       " 'silver',\n",
       " 'gold',\n",
       " 'copper',\n",
       " 'aluminium']"
      ]
     },
     "execution_count": 226,
     "metadata": {},
     "output_type": "execute_result"
    }
   ],
   "source": [
    "metals"
   ]
  },
  {
   "cell_type": "code",
   "execution_count": 230,
   "id": "e0ff9a46-8169-4349-a747-3adc0026baf4",
   "metadata": {},
   "outputs": [],
   "source": [
    "metals.remove('copper')"
   ]
  },
  {
   "cell_type": "code",
   "execution_count": 232,
   "id": "5062e372-5f69-49b9-8b18-746864469f3b",
   "metadata": {},
   "outputs": [
    {
     "data": {
      "text/plain": [
       "['silver',\n",
       " 'gold',\n",
       " 'aluminium',\n",
       " 'silver',\n",
       " 'gold',\n",
       " 'copper',\n",
       " 'aluminium',\n",
       " 'silver',\n",
       " 'gold',\n",
       " 'copper',\n",
       " 'aluminium']"
      ]
     },
     "execution_count": 232,
     "metadata": {},
     "output_type": "execute_result"
    }
   ],
   "source": [
    "metals"
   ]
  },
  {
   "cell_type": "code",
   "execution_count": 288,
   "id": "1b9cc38e-6d86-4d9d-8dcb-2882588106ac",
   "metadata": {},
   "outputs": [
    {
     "name": "stdout",
     "output_type": "stream",
     "text": [
      "['silver', 'gold', 'aluminium', 'silver', 'gold', 'aluminium', 'silver', 'gold', 'aluminium']\n"
     ]
    }
   ],
   "source": [
    "met2=[]\n",
    "for n in metals:\n",
    "    if n!='copper':\n",
    "        met2.append(n)\n",
    "print(met2)\n",
    "        "
   ]
  },
  {
   "cell_type": "code",
   "execution_count": 294,
   "id": "f158a54b-7907-4b87-bdc4-13f766d58384",
   "metadata": {},
   "outputs": [
    {
     "data": {
      "text/plain": [
       "[45, 67, 88, 89, 90, 78]"
      ]
     },
     "execution_count": 294,
     "metadata": {},
     "output_type": "execute_result"
    }
   ],
   "source": [
    "num=[45,67,88,89,90,78]\n",
    "num"
   ]
  },
  {
   "cell_type": "code",
   "execution_count": 300,
   "id": "a3b0afa8-e6c3-4902-9bbb-03c0b41638b1",
   "metadata": {},
   "outputs": [
    {
     "data": {
      "text/plain": [
       "[22.5, 33.5, 44.0, 44.5, 45.0, 39.0]"
      ]
     },
     "execution_count": 300,
     "metadata": {},
     "output_type": "execute_result"
    }
   ],
   "source": [
    "new=[n/2 for n in num]\n",
    "new"
   ]
  },
  {
   "cell_type": "code",
   "execution_count": 305,
   "id": "d952d951-d09a-4d4a-9bd8-6a8b87f5e38d",
   "metadata": {},
   "outputs": [
    {
     "data": {
      "text/plain": [
       "[45, 67, 89]"
      ]
     },
     "execution_count": 305,
     "metadata": {},
     "output_type": "execute_result"
    }
   ],
   "source": [
    "new=[n for n in num if n%2==1]\n",
    "new"
   ]
  },
  {
   "cell_type": "code",
   "execution_count": 309,
   "id": "3a86951e-5cb2-47ac-b57c-1ef9402199d4",
   "metadata": {},
   "outputs": [
    {
     "data": {
      "text/plain": [
       "[88, 90, 78]"
      ]
     },
     "execution_count": 309,
     "metadata": {},
     "output_type": "execute_result"
    }
   ],
   "source": [
    "new=[n for n in num if n%2==0]\n",
    "new"
   ]
  },
  {
   "cell_type": "code",
   "execution_count": 311,
   "id": "eb9c5732-8bd4-4457-ae45-3da14331e9d2",
   "metadata": {},
   "outputs": [
    {
     "data": {
      "text/plain": [
       "[22.5, 33.5, 44.5]"
      ]
     },
     "execution_count": 311,
     "metadata": {},
     "output_type": "execute_result"
    }
   ],
   "source": [
    "new=[n/2 for n in num if n%2==1]\n",
    "new"
   ]
  },
  {
   "cell_type": "code",
   "execution_count": 313,
   "id": "4aa33b5d-1e3f-4245-89f6-e184c69b355c",
   "metadata": {},
   "outputs": [
    {
     "data": {
      "text/plain": [
       "['silver',\n",
       " 'gold',\n",
       " 'copper',\n",
       " 'aluminium',\n",
       " 'silver',\n",
       " 'gold',\n",
       " 'copper',\n",
       " 'aluminium',\n",
       " 'silver',\n",
       " 'gold',\n",
       " 'copper',\n",
       " 'aluminium']"
      ]
     },
     "execution_count": 313,
     "metadata": {},
     "output_type": "execute_result"
    }
   ],
   "source": [
    "metals"
   ]
  },
  {
   "cell_type": "code",
   "execution_count": 315,
   "id": "1900e33a-c14e-4d99-b8e5-f2a2d9972d28",
   "metadata": {},
   "outputs": [
    {
     "data": {
      "text/plain": [
       "['silver',\n",
       " 'gold',\n",
       " 'aluminium',\n",
       " 'silver',\n",
       " 'gold',\n",
       " 'aluminium',\n",
       " 'silver',\n",
       " 'gold',\n",
       " 'aluminium']"
      ]
     },
     "execution_count": 315,
     "metadata": {},
     "output_type": "execute_result"
    }
   ],
   "source": [
    "new_m=[n for n in metals if n!='copper']\n",
    "new_m"
   ]
  },
  {
   "cell_type": "code",
   "execution_count": 319,
   "id": "b8411157-e0f5-4bd9-9d70-e78aa2def1c1",
   "metadata": {},
   "outputs": [
    {
     "data": {
      "text/plain": [
       "[5, 6, 2, 8, 9, 1, 3, 7, 4, 0]"
      ]
     },
     "execution_count": 319,
     "metadata": {},
     "output_type": "execute_result"
    }
   ],
   "source": [
    "before=[5,6,2,8,9,1,3,7,4,0]\n",
    "before"
   ]
  },
  {
   "cell_type": "code",
   "execution_count": 331,
   "id": "df716fa8-d849-4e6f-88b3-712fb268c463",
   "metadata": {},
   "outputs": [],
   "source": [
    "after=before[0:5]\n",
    "s=before[5:10]"
   ]
  },
  {
   "cell_type": "code",
   "execution_count": 333,
   "id": "663337be-5df3-4329-9d49-95d04efe87a4",
   "metadata": {},
   "outputs": [
    {
     "data": {
      "text/plain": [
       "[1, 3, 7, 4, 0]"
      ]
     },
     "execution_count": 333,
     "metadata": {},
     "output_type": "execute_result"
    }
   ],
   "source": [
    "s"
   ]
  },
  {
   "cell_type": "code",
   "execution_count": 335,
   "id": "d40b4fda-dec4-4baf-b36c-5f1b37391a81",
   "metadata": {},
   "outputs": [
    {
     "data": {
      "text/plain": [
       "[5, 6, 2, 8, 9, 1, 3, 7, 4, 0]"
      ]
     },
     "execution_count": 335,
     "metadata": {},
     "output_type": "execute_result"
    }
   ],
   "source": [
    "before"
   ]
  },
  {
   "cell_type": "code",
   "execution_count": 337,
   "id": "43df9845-e213-4e41-b86d-3ac1fee2b2d5",
   "metadata": {},
   "outputs": [
    {
     "data": {
      "text/plain": [
       "[5, 6, 2, 8, 9]"
      ]
     },
     "execution_count": 337,
     "metadata": {},
     "output_type": "execute_result"
    }
   ],
   "source": [
    "after"
   ]
  },
  {
   "cell_type": "code",
   "execution_count": 339,
   "id": "87b3e941-10c3-43a8-8108-b9f43f99c20a",
   "metadata": {},
   "outputs": [
    {
     "data": {
      "text/plain": [
       "[1, 3, 7, 4, 0]"
      ]
     },
     "execution_count": 339,
     "metadata": {},
     "output_type": "execute_result"
    }
   ],
   "source": [
    "s"
   ]
  },
  {
   "cell_type": "code",
   "execution_count": 350,
   "id": "bd1157b9-0415-42d0-9b7a-88360e85246f",
   "metadata": {},
   "outputs": [],
   "source": [
    "sd=sorted(s)"
   ]
  },
  {
   "cell_type": "code",
   "execution_count": 356,
   "id": "4e93a4da-85b9-480c-9945-f9dddde190c5",
   "metadata": {},
   "outputs": [],
   "source": [
    "ab=[]\n",
    "ab=after+sd"
   ]
  },
  {
   "cell_type": "code",
   "execution_count": 358,
   "id": "5beb9f13-cc6b-4888-8dc7-0d5a9c780ce0",
   "metadata": {},
   "outputs": [
    {
     "data": {
      "text/plain": [
       "[5, 6, 2, 8, 9, 0, 1, 3, 4, 7]"
      ]
     },
     "execution_count": 358,
     "metadata": {},
     "output_type": "execute_result"
    }
   ],
   "source": [
    "ab"
   ]
  },
  {
   "cell_type": "code",
   "execution_count": 360,
   "id": "eaeb15d9-0594-48c1-b611-f35fe07b7948",
   "metadata": {},
   "outputs": [
    {
     "data": {
      "text/plain": [
       "[45, 67, 88, 89, 90, 78]"
      ]
     },
     "execution_count": 360,
     "metadata": {},
     "output_type": "execute_result"
    }
   ],
   "source": [
    "num"
   ]
  },
  {
   "cell_type": "code",
   "execution_count": 362,
   "id": "0acab3bc-6b7e-456f-bbc4-1ae8f4887621",
   "metadata": {},
   "outputs": [
    {
     "data": {
      "text/plain": [
       "[45, 67, 88, 89, 90, 78]"
      ]
     },
     "execution_count": 362,
     "metadata": {},
     "output_type": "execute_result"
    }
   ],
   "source": [
    "num"
   ]
  },
  {
   "cell_type": "code",
   "execution_count": 364,
   "id": "641df10f-6839-454e-8add-f87b441c390c",
   "metadata": {},
   "outputs": [
    {
     "data": {
      "text/plain": [
       "[5, 6, 2, 8, 9, 1, 3, 7, 4, 0]"
      ]
     },
     "execution_count": 364,
     "metadata": {},
     "output_type": "execute_result"
    }
   ],
   "source": [
    "before"
   ]
  },
  {
   "cell_type": "code",
   "execution_count": 374,
   "id": "eb832acd-ef20-4b7d-9262-bb9fa89ab862",
   "metadata": {},
   "outputs": [
    {
     "data": {
      "text/plain": [
       "[5, 6, 2, 8, 9, 0, 1, 3, 4, 7]"
      ]
     },
     "execution_count": 374,
     "metadata": {},
     "output_type": "execute_result"
    }
   ],
   "source": [
    "before[:5]+sorted(before[5:])"
   ]
  },
  {
   "cell_type": "markdown",
   "id": "b6a5f5c8-51be-4285-9fbb-0d9f0d296e6d",
   "metadata": {},
   "source": [
    "#### Tuple"
   ]
  },
  {
   "cell_type": "code",
   "execution_count": 377,
   "id": "e8a4e663-702e-4bac-86b4-394861a14558",
   "metadata": {},
   "outputs": [],
   "source": [
    "##Tuples are immutable"
   ]
  },
  {
   "cell_type": "code",
   "execution_count": 381,
   "id": "c297bd51-ae7c-4f0c-8cfd-64bf7ddd5157",
   "metadata": {},
   "outputs": [],
   "source": [
    "##all list methods are possible,,append is not possible, method which changes the data permanently...not possible"
   ]
  },
  {
   "cell_type": "code",
   "execution_count": 385,
   "id": "1a08a87b-e262-45c8-947b-ab90262d900f",
   "metadata": {},
   "outputs": [
    {
     "data": {
      "text/plain": [
       "tuple"
      ]
     },
     "execution_count": 385,
     "metadata": {},
     "output_type": "execute_result"
    }
   ],
   "source": [
    "num=(5, 6, 2, 8, 9, 0, 1, 3, 4, 70)\n",
    "type(num)"
   ]
  },
  {
   "cell_type": "code",
   "execution_count": 389,
   "id": "1838b484-c40a-412d-b739-f19d201eb3d5",
   "metadata": {},
   "outputs": [
    {
     "data": {
      "text/plain": [
       "1"
      ]
     },
     "execution_count": 389,
     "metadata": {},
     "output_type": "execute_result"
    }
   ],
   "source": [
    "num[6]"
   ]
  },
  {
   "cell_type": "code",
   "execution_count": 391,
   "id": "5d167a9b-6ca2-4cb9-94df-5ac64e4da39c",
   "metadata": {},
   "outputs": [
    {
     "ename": "TypeError",
     "evalue": "'tuple' object does not support item assignment",
     "output_type": "error",
     "traceback": [
      "\u001b[1;31m---------------------------------------------------------------------------\u001b[0m",
      "\u001b[1;31mTypeError\u001b[0m                                 Traceback (most recent call last)",
      "Cell \u001b[1;32mIn[391], line 1\u001b[0m\n\u001b[1;32m----> 1\u001b[0m num[\u001b[38;5;241m6\u001b[39m]\u001b[38;5;241m=\u001b[39m\u001b[38;5;241m56\u001b[39m\n",
      "\u001b[1;31mTypeError\u001b[0m: 'tuple' object does not support item assignment"
     ]
    }
   ],
   "source": [
    "num[6]=56"
   ]
  },
  {
   "cell_type": "code",
   "execution_count": 393,
   "id": "0d864590-c6c4-4ee6-b897-73b4064e34a9",
   "metadata": {},
   "outputs": [
    {
     "data": {
      "text/plain": [
       "tuple"
      ]
     },
     "execution_count": 393,
     "metadata": {},
     "output_type": "execute_result"
    }
   ],
   "source": [
    "num=5, 6, 2, 8, 9, 0, 1, 3, 4, 70\n",
    "type(num)"
   ]
  },
  {
   "cell_type": "code",
   "execution_count": 395,
   "id": "c12f02d0-120c-40ba-ac76-6f5834141376",
   "metadata": {},
   "outputs": [],
   "source": [
    "##SET"
   ]
  },
  {
   "cell_type": "code",
   "execution_count": 417,
   "id": "f6847df6-c0f4-43f1-b655-0f95114eec75",
   "metadata": {},
   "outputs": [
    {
     "data": {
      "text/plain": [
       "set"
      ]
     },
     "execution_count": 417,
     "metadata": {},
     "output_type": "execute_result"
    }
   ],
   "source": [
    "s={5, 6, 2,2,4, 8, 9, 0, 1, 3, 4, 70,70}\n",
    "type(s)"
   ]
  },
  {
   "cell_type": "code",
   "execution_count": 419,
   "id": "f855825e-ad10-413c-bda7-856a29254e6a",
   "metadata": {},
   "outputs": [
    {
     "data": {
      "text/plain": [
       "{0, 1, 2, 3, 4, 5, 6, 8, 9, 70}"
      ]
     },
     "execution_count": 419,
     "metadata": {},
     "output_type": "execute_result"
    }
   ],
   "source": [
    "s"
   ]
  },
  {
   "cell_type": "code",
   "execution_count": 404,
   "id": "817ceee8-5fde-4cbf-8969-c7b43b8b9b74",
   "metadata": {},
   "outputs": [],
   "source": [
    "##gives unique and sorted values"
   ]
  },
  {
   "cell_type": "code",
   "execution_count": 406,
   "id": "792febde-ee2d-4388-a963-94298ff3aca7",
   "metadata": {},
   "outputs": [],
   "source": [
    "#mutable,not-indexable, iterable"
   ]
  },
  {
   "cell_type": "code",
   "execution_count": 421,
   "id": "cc843dc6-ae2a-4838-b387-53170bff8422",
   "metadata": {},
   "outputs": [
    {
     "ename": "TypeError",
     "evalue": "'set' object is not subscriptable",
     "output_type": "error",
     "traceback": [
      "\u001b[1;31m---------------------------------------------------------------------------\u001b[0m",
      "\u001b[1;31mTypeError\u001b[0m                                 Traceback (most recent call last)",
      "Cell \u001b[1;32mIn[421], line 1\u001b[0m\n\u001b[1;32m----> 1\u001b[0m s[\u001b[38;5;241m4\u001b[39m]\n",
      "\u001b[1;31mTypeError\u001b[0m: 'set' object is not subscriptable"
     ]
    }
   ],
   "source": [
    "s[4]"
   ]
  },
  {
   "cell_type": "code",
   "execution_count": 410,
   "id": "c842bf98-7d98-4754-b1b1-d922601d318a",
   "metadata": {},
   "outputs": [],
   "source": [
    "s.add(66)\n",
    "s"
   ]
  },
  {
   "cell_type": "code",
   "execution_count": 412,
   "id": "b88f2869-4572-4c96-b2da-46073fbc57c9",
   "metadata": {},
   "outputs": [
    {
     "data": {
      "text/plain": [
       "{0, 1, 2, 3, 4, 5, 6, 8, 9, 66, 70}"
      ]
     },
     "execution_count": 412,
     "metadata": {},
     "output_type": "execute_result"
    }
   ],
   "source": [
    "s"
   ]
  },
  {
   "cell_type": "code",
   "execution_count": 423,
   "id": "08b26162-2dc9-41eb-9a65-8b067b56f052",
   "metadata": {},
   "outputs": [
    {
     "data": {
      "text/plain": [
       "{1, 2, 3, 4, 5, 6, 7, 8, 9, 10}"
      ]
     },
     "execution_count": 423,
     "metadata": {},
     "output_type": "execute_result"
    }
   ],
   "source": [
    "s1={1,2,3,4,5}\n",
    "s2={1,6,7,8,9,10}\n",
    "s1.union(s2)\n"
   ]
  },
  {
   "cell_type": "code",
   "execution_count": 425,
   "id": "713278aa-df0e-4876-80ea-41e6ecfd6642",
   "metadata": {},
   "outputs": [
    {
     "data": {
      "text/plain": [
       "{1}"
      ]
     },
     "execution_count": 425,
     "metadata": {},
     "output_type": "execute_result"
    }
   ],
   "source": [
    "s1.intersection(s2)"
   ]
  },
  {
   "cell_type": "code",
   "execution_count": 427,
   "id": "9012ab65-470b-468d-8bd4-0eea02e32e2b",
   "metadata": {},
   "outputs": [
    {
     "data": {
      "text/plain": [
       "{2, 3, 4, 5}"
      ]
     },
     "execution_count": 427,
     "metadata": {},
     "output_type": "execute_result"
    }
   ],
   "source": [
    "s1.difference(s2)"
   ]
  },
  {
   "cell_type": "code",
   "execution_count": 431,
   "id": "77d3483d-0f10-477b-b76c-7ca1e4ee980a",
   "metadata": {},
   "outputs": [
    {
     "data": {
      "text/plain": [
       "{6, 7, 8, 9, 10}"
      ]
     },
     "execution_count": 431,
     "metadata": {},
     "output_type": "execute_result"
    }
   ],
   "source": [
    "s2.difference(s1)"
   ]
  },
  {
   "cell_type": "code",
   "execution_count": 433,
   "id": "399991a1-5332-4837-8cfc-0e90092cf373",
   "metadata": {},
   "outputs": [],
   "source": [
    "## Dictionary"
   ]
  },
  {
   "cell_type": "code",
   "execution_count": 449,
   "id": "110ded1d-b2dc-4a92-942c-7a36ac40b08e",
   "metadata": {},
   "outputs": [
    {
     "data": {
      "text/plain": [
       "dict"
      ]
     },
     "execution_count": 449,
     "metadata": {},
     "output_type": "execute_result"
    }
   ],
   "source": [
    "d={2:56,5:27,50:25,'k':'kirti','k':'kangaroo'}\n",
    "type(d)"
   ]
  },
  {
   "cell_type": "code",
   "execution_count": 451,
   "id": "b3dd0aa6-cacf-4bd8-860e-3401b5d8cd45",
   "metadata": {},
   "outputs": [
    {
     "data": {
      "text/plain": [
       "56"
      ]
     },
     "execution_count": 451,
     "metadata": {},
     "output_type": "execute_result"
    }
   ],
   "source": [
    "d[2]"
   ]
  },
  {
   "cell_type": "code",
   "execution_count": 453,
   "id": "f2c14b4e-e47c-471d-81b2-d538baf7d796",
   "metadata": {},
   "outputs": [
    {
     "data": {
      "text/plain": [
       "'kangaroo'"
      ]
     },
     "execution_count": 453,
     "metadata": {},
     "output_type": "execute_result"
    }
   ],
   "source": [
    "d['k']"
   ]
  },
  {
   "cell_type": "code",
   "execution_count": 455,
   "id": "f25f101e-45d0-47d4-a51a-54dbdd822e36",
   "metadata": {},
   "outputs": [
    {
     "data": {
      "text/plain": [
       "'kangaroo'"
      ]
     },
     "execution_count": 455,
     "metadata": {},
     "output_type": "execute_result"
    }
   ],
   "source": [
    "d['k']"
   ]
  },
  {
   "cell_type": "code",
   "execution_count": 457,
   "id": "6efdd8e1-98a5-4395-ad49-0cb4dcf26beb",
   "metadata": {},
   "outputs": [],
   "source": [
    "d[50]=1000"
   ]
  },
  {
   "cell_type": "code",
   "execution_count": 459,
   "id": "6d1be1a5-f1b4-4b26-b402-569a5021b48a",
   "metadata": {},
   "outputs": [
    {
     "data": {
      "text/plain": [
       "{2: 56, 5: 25, 'k': 'kangaroo', 50: 1000}"
      ]
     },
     "execution_count": 459,
     "metadata": {},
     "output_type": "execute_result"
    }
   ],
   "source": [
    "d"
   ]
  },
  {
   "cell_type": "code",
   "execution_count": 463,
   "id": "f8033947-88ee-48ff-8187-d51e778920cc",
   "metadata": {},
   "outputs": [],
   "source": [
    "d['z']='zebra'"
   ]
  },
  {
   "cell_type": "code",
   "execution_count": 465,
   "id": "0175f66d-9bd7-4f04-83e5-1d2e297bc3c8",
   "metadata": {},
   "outputs": [
    {
     "data": {
      "text/plain": [
       "{2: 56, 5: 25, 'k': 'kangaroo', 50: 1000, 'z': 'zebra'}"
      ]
     },
     "execution_count": 465,
     "metadata": {},
     "output_type": "execute_result"
    }
   ],
   "source": [
    "d"
   ]
  },
  {
   "cell_type": "code",
   "execution_count": 467,
   "id": "afb2836e-a42d-418c-aa77-36c48b47af71",
   "metadata": {},
   "outputs": [
    {
     "data": {
      "text/plain": [
       "dict"
      ]
     },
     "execution_count": 467,
     "metadata": {},
     "output_type": "execute_result"
    }
   ],
   "source": [
    "x={}\n",
    "type(x)"
   ]
  },
  {
   "cell_type": "code",
   "execution_count": 469,
   "id": "5e3fab82-5fda-4973-8196-76fe1b7f3cb9",
   "metadata": {},
   "outputs": [
    {
     "data": {
      "text/plain": [
       "{0, 4, 5, 6, 7, 8, 9}"
      ]
     },
     "execution_count": 469,
     "metadata": {},
     "output_type": "execute_result"
    }
   ],
   "source": [
    "l=[5,4,6,7,8,9,0,0,4]\n",
    "t=(7,89,0,8,7,4,7)\n",
    "s={6,7.0,6,8,9}\n",
    "set(l)"
   ]
  },
  {
   "cell_type": "code",
   "execution_count": 471,
   "id": "7c924fed-9010-48c5-9ecd-70ffde11a70d",
   "metadata": {},
   "outputs": [
    {
     "data": {
      "text/plain": [
       "[7, 89, 0, 8, 7, 4, 7]"
      ]
     },
     "execution_count": 471,
     "metadata": {},
     "output_type": "execute_result"
    }
   ],
   "source": [
    "##to convert one data str. to another data str.\n",
    "list(t)"
   ]
  },
  {
   "cell_type": "code",
   "execution_count": 473,
   "id": "7b56bb0b-9597-480c-b7ed-615acdf1ca08",
   "metadata": {},
   "outputs": [],
   "source": []
  },
  {
   "cell_type": "code",
   "execution_count": 475,
   "id": "4cccd578-56b0-434b-a58e-4a5a76f1e1a6",
   "metadata": {},
   "outputs": [],
   "source": []
  }
 ],
 "metadata": {
  "kernelspec": {
   "display_name": "Python 3 (ipykernel)",
   "language": "python",
   "name": "python3"
  },
  "language_info": {
   "codemirror_mode": {
    "name": "ipython",
    "version": 3
   },
   "file_extension": ".py",
   "mimetype": "text/x-python",
   "name": "python",
   "nbconvert_exporter": "python",
   "pygments_lexer": "ipython3",
   "version": "3.12.4"
  }
 },
 "nbformat": 4,
 "nbformat_minor": 5
}
