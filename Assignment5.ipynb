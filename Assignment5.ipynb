{
 "cells": [
  {
   "cell_type": "code",
   "execution_count": 1,
   "id": "85281c0f-e0d6-47a2-b292-b4276f642034",
   "metadata": {},
   "outputs": [],
   "source": [
    "# Dataset: product-info.csv containing columns like Product ID, Product Name, Price, Quantity Sold, and Sales Date.\n",
    "# Problem: Write a Python program to calculate the total sales, average sales price, and the standard deviation of sales prices. \n",
    "#Additionally, identify the product with the highest and lowest average sales price."
   ]
  },
  {
   "cell_type": "code",
   "execution_count": 72,
   "id": "68309f47-270d-40cd-a8fe-d4455e66d94e",
   "metadata": {},
   "outputs": [],
   "source": [
    "import pandas as pd\n",
    "import numpy as np"
   ]
  },
  {
   "cell_type": "code",
   "execution_count": 3,
   "id": "d911fec4-5835-4d10-b243-29ba82c4a559",
   "metadata": {},
   "outputs": [
    {
     "data": {
      "text/html": [
       "<div>\n",
       "<style scoped>\n",
       "    .dataframe tbody tr th:only-of-type {\n",
       "        vertical-align: middle;\n",
       "    }\n",
       "\n",
       "    .dataframe tbody tr th {\n",
       "        vertical-align: top;\n",
       "    }\n",
       "\n",
       "    .dataframe thead th {\n",
       "        text-align: right;\n",
       "    }\n",
       "</style>\n",
       "<table border=\"1\" class=\"dataframe\">\n",
       "  <thead>\n",
       "    <tr style=\"text-align: right;\">\n",
       "      <th></th>\n",
       "      <th>Product ID</th>\n",
       "      <th>Product Name</th>\n",
       "      <th>Price</th>\n",
       "      <th>Quantity Sold</th>\n",
       "      <th>Sales Date</th>\n",
       "    </tr>\n",
       "  </thead>\n",
       "  <tbody>\n",
       "    <tr>\n",
       "      <th>0</th>\n",
       "      <td>101</td>\n",
       "      <td>Blue Jeans</td>\n",
       "      <td>59.99</td>\n",
       "      <td>20</td>\n",
       "      <td>2023-12-15</td>\n",
       "    </tr>\n",
       "    <tr>\n",
       "      <th>1</th>\n",
       "      <td>102</td>\n",
       "      <td>Red Shirt</td>\n",
       "      <td>24.99</td>\n",
       "      <td>35</td>\n",
       "      <td>2023-12-20</td>\n",
       "    </tr>\n",
       "    <tr>\n",
       "      <th>2</th>\n",
       "      <td>103</td>\n",
       "      <td>Black Shoes</td>\n",
       "      <td>79.99</td>\n",
       "      <td>15</td>\n",
       "      <td>2023-12-25</td>\n",
       "    </tr>\n",
       "    <tr>\n",
       "      <th>3</th>\n",
       "      <td>104</td>\n",
       "      <td>Green Jacket</td>\n",
       "      <td>99.99</td>\n",
       "      <td>10</td>\n",
       "      <td>2023-12-30</td>\n",
       "    </tr>\n",
       "    <tr>\n",
       "      <th>4</th>\n",
       "      <td>105</td>\n",
       "      <td>White Sneakers</td>\n",
       "      <td>64.99</td>\n",
       "      <td>25</td>\n",
       "      <td>2024-01-05</td>\n",
       "    </tr>\n",
       "    <tr>\n",
       "      <th>5</th>\n",
       "      <td>106</td>\n",
       "      <td>Gray Pants</td>\n",
       "      <td>49.99</td>\n",
       "      <td>40</td>\n",
       "      <td>2024-01-10</td>\n",
       "    </tr>\n",
       "    <tr>\n",
       "      <th>6</th>\n",
       "      <td>107</td>\n",
       "      <td>Yellow Dress</td>\n",
       "      <td>39.99</td>\n",
       "      <td>30</td>\n",
       "      <td>2024-01-15</td>\n",
       "    </tr>\n",
       "    <tr>\n",
       "      <th>7</th>\n",
       "      <td>108</td>\n",
       "      <td>Brown Belt</td>\n",
       "      <td>19.99</td>\n",
       "      <td>50</td>\n",
       "      <td>2024-01-20</td>\n",
       "    </tr>\n",
       "    <tr>\n",
       "      <th>8</th>\n",
       "      <td>109</td>\n",
       "      <td>Purple Hat</td>\n",
       "      <td>14.99</td>\n",
       "      <td>60</td>\n",
       "      <td>2024-01-25</td>\n",
       "    </tr>\n",
       "    <tr>\n",
       "      <th>9</th>\n",
       "      <td>110</td>\n",
       "      <td>Orange Socks</td>\n",
       "      <td>9.99</td>\n",
       "      <td>75</td>\n",
       "      <td>2024-01-30</td>\n",
       "    </tr>\n",
       "  </tbody>\n",
       "</table>\n",
       "</div>"
      ],
      "text/plain": [
       "   Product ID    Product Name  Price  Quantity Sold  Sales Date\n",
       "0         101      Blue Jeans  59.99             20  2023-12-15\n",
       "1         102       Red Shirt  24.99             35  2023-12-20\n",
       "2         103     Black Shoes  79.99             15  2023-12-25\n",
       "3         104    Green Jacket  99.99             10  2023-12-30\n",
       "4         105  White Sneakers  64.99             25  2024-01-05\n",
       "5         106      Gray Pants  49.99             40  2024-01-10\n",
       "6         107    Yellow Dress  39.99             30  2024-01-15\n",
       "7         108      Brown Belt  19.99             50  2024-01-20\n",
       "8         109      Purple Hat  14.99             60  2024-01-25\n",
       "9         110    Orange Socks   9.99             75  2024-01-30"
      ]
     },
     "execution_count": 3,
     "metadata": {},
     "output_type": "execute_result"
    }
   ],
   "source": [
    "product=pd.read_csv('product-info.csv')\n",
    "product"
   ]
  },
  {
   "cell_type": "code",
   "execution_count": 4,
   "id": "469fb2e4-03ed-4507-915a-4e0140e51ad6",
   "metadata": {},
   "outputs": [],
   "source": [
    "sales=product['Price']*product['Quantity Sold']"
   ]
  },
  {
   "cell_type": "code",
   "execution_count": 5,
   "id": "5e784101-d384-4bf3-9d5e-c5cd75723425",
   "metadata": {},
   "outputs": [
    {
     "data": {
      "text/plain": [
       "0    1199.80\n",
       "1     874.65\n",
       "2    1199.85\n",
       "3     999.90\n",
       "4    1624.75\n",
       "5    1999.60\n",
       "6    1199.70\n",
       "7     999.50\n",
       "8     899.40\n",
       "9     749.25\n",
       "dtype: float64"
      ]
     },
     "execution_count": 5,
     "metadata": {},
     "output_type": "execute_result"
    }
   ],
   "source": [
    "sales"
   ]
  },
  {
   "cell_type": "code",
   "execution_count": 6,
   "id": "95e969af-cb74-47de-a118-a2ef83108a9d",
   "metadata": {},
   "outputs": [],
   "source": [
    "total_sales=sum(sales)"
   ]
  },
  {
   "cell_type": "code",
   "execution_count": 7,
   "id": "fbb6d577-23b9-4f0a-a250-9c142c769e9c",
   "metadata": {},
   "outputs": [
    {
     "data": {
      "text/plain": [
       "11746.4"
      ]
     },
     "execution_count": 7,
     "metadata": {},
     "output_type": "execute_result"
    }
   ],
   "source": [
    "total_sales"
   ]
  },
  {
   "cell_type": "code",
   "execution_count": 10,
   "id": "dc06fb81-a2ad-4210-865d-a4b49bf88138",
   "metadata": {},
   "outputs": [
    {
     "data": {
      "text/plain": [
       "46.489999999999995"
      ]
     },
     "execution_count": 10,
     "metadata": {},
     "output_type": "execute_result"
    }
   ],
   "source": [
    "average_sales_price=product['Price'].mean()\n",
    "average_sales_price"
   ]
  },
  {
   "cell_type": "code",
   "execution_count": 11,
   "id": "d162341f-9e7f-49be-a1ff-921c85fab8c7",
   "metadata": {},
   "outputs": [],
   "source": [
    "std=product['Price'].std()"
   ]
  },
  {
   "cell_type": "code",
   "execution_count": 12,
   "id": "0707f5e3-d4c8-4655-91ed-540c9a851e63",
   "metadata": {},
   "outputs": [
    {
     "data": {
      "text/plain": [
       "29.91190769948019"
      ]
     },
     "execution_count": 12,
     "metadata": {},
     "output_type": "execute_result"
    }
   ],
   "source": [
    "std"
   ]
  },
  {
   "cell_type": "code",
   "execution_count": 13,
   "id": "efb91901-4de2-4323-87c0-063b8f910ccc",
   "metadata": {},
   "outputs": [
    {
     "data": {
      "text/plain": [
       "count    10.000000\n",
       "mean     46.490000\n",
       "std      29.911908\n",
       "min       9.990000\n",
       "25%      21.240000\n",
       "50%      44.990000\n",
       "75%      63.740000\n",
       "max      99.990000\n",
       "Name: Price, dtype: float64"
      ]
     },
     "execution_count": 13,
     "metadata": {},
     "output_type": "execute_result"
    }
   ],
   "source": [
    "product['Price'].describe()"
   ]
  },
  {
   "cell_type": "code",
   "execution_count": 14,
   "id": "6225683a-d28b-48ad-a200-419c7f3daea8",
   "metadata": {},
   "outputs": [],
   "source": [
    "# Dataset: A CSV file customer-satisfaction.csv with columns such as Customer ID, Satisfaction Rating (scale of 1-10), Age, and Gender.\n",
    "# Problem: Create a Python program to calculate the mean, median, and mode of the satisfaction ratings. Analyze the data by grouping it by age groups and gender to identify any trends."
   ]
  },
  {
   "cell_type": "code",
   "execution_count": 74,
   "id": "44bbd4df-737f-4e44-aea7-f2d610c40ed3",
   "metadata": {},
   "outputs": [
    {
     "data": {
      "text/html": [
       "<div>\n",
       "<style scoped>\n",
       "    .dataframe tbody tr th:only-of-type {\n",
       "        vertical-align: middle;\n",
       "    }\n",
       "\n",
       "    .dataframe tbody tr th {\n",
       "        vertical-align: top;\n",
       "    }\n",
       "\n",
       "    .dataframe thead th {\n",
       "        text-align: right;\n",
       "    }\n",
       "</style>\n",
       "<table border=\"1\" class=\"dataframe\">\n",
       "  <thead>\n",
       "    <tr style=\"text-align: right;\">\n",
       "      <th></th>\n",
       "      <th>Customer ID</th>\n",
       "      <th>Satisfaction Rating</th>\n",
       "      <th>Age</th>\n",
       "      <th>Gender</th>\n",
       "    </tr>\n",
       "  </thead>\n",
       "  <tbody>\n",
       "    <tr>\n",
       "      <th>0</th>\n",
       "      <td>1</td>\n",
       "      <td>8</td>\n",
       "      <td>32</td>\n",
       "      <td>0</td>\n",
       "    </tr>\n",
       "    <tr>\n",
       "      <th>1</th>\n",
       "      <td>2</td>\n",
       "      <td>7</td>\n",
       "      <td>45</td>\n",
       "      <td>1</td>\n",
       "    </tr>\n",
       "    <tr>\n",
       "      <th>2</th>\n",
       "      <td>3</td>\n",
       "      <td>9</td>\n",
       "      <td>28</td>\n",
       "      <td>0</td>\n",
       "    </tr>\n",
       "    <tr>\n",
       "      <th>3</th>\n",
       "      <td>4</td>\n",
       "      <td>6</td>\n",
       "      <td>51</td>\n",
       "      <td>1</td>\n",
       "    </tr>\n",
       "    <tr>\n",
       "      <th>4</th>\n",
       "      <td>5</td>\n",
       "      <td>10</td>\n",
       "      <td>37</td>\n",
       "      <td>0</td>\n",
       "    </tr>\n",
       "    <tr>\n",
       "      <th>5</th>\n",
       "      <td>6</td>\n",
       "      <td>5</td>\n",
       "      <td>22</td>\n",
       "      <td>1</td>\n",
       "    </tr>\n",
       "    <tr>\n",
       "      <th>6</th>\n",
       "      <td>7</td>\n",
       "      <td>4</td>\n",
       "      <td>60</td>\n",
       "      <td>0</td>\n",
       "    </tr>\n",
       "    <tr>\n",
       "      <th>7</th>\n",
       "      <td>8</td>\n",
       "      <td>3</td>\n",
       "      <td>42</td>\n",
       "      <td>1</td>\n",
       "    </tr>\n",
       "    <tr>\n",
       "      <th>8</th>\n",
       "      <td>9</td>\n",
       "      <td>2</td>\n",
       "      <td>35</td>\n",
       "      <td>0</td>\n",
       "    </tr>\n",
       "    <tr>\n",
       "      <th>9</th>\n",
       "      <td>10</td>\n",
       "      <td>1</td>\n",
       "      <td>58</td>\n",
       "      <td>1</td>\n",
       "    </tr>\n",
       "    <tr>\n",
       "      <th>10</th>\n",
       "      <td>11</td>\n",
       "      <td>8</td>\n",
       "      <td>27</td>\n",
       "      <td>0</td>\n",
       "    </tr>\n",
       "    <tr>\n",
       "      <th>11</th>\n",
       "      <td>12</td>\n",
       "      <td>7</td>\n",
       "      <td>40</td>\n",
       "      <td>1</td>\n",
       "    </tr>\n",
       "    <tr>\n",
       "      <th>12</th>\n",
       "      <td>13</td>\n",
       "      <td>9</td>\n",
       "      <td>33</td>\n",
       "      <td>0</td>\n",
       "    </tr>\n",
       "    <tr>\n",
       "      <th>13</th>\n",
       "      <td>14</td>\n",
       "      <td>6</td>\n",
       "      <td>55</td>\n",
       "      <td>1</td>\n",
       "    </tr>\n",
       "    <tr>\n",
       "      <th>14</th>\n",
       "      <td>15</td>\n",
       "      <td>10</td>\n",
       "      <td>39</td>\n",
       "      <td>0</td>\n",
       "    </tr>\n",
       "    <tr>\n",
       "      <th>15</th>\n",
       "      <td>16</td>\n",
       "      <td>5</td>\n",
       "      <td>24</td>\n",
       "      <td>1</td>\n",
       "    </tr>\n",
       "    <tr>\n",
       "      <th>16</th>\n",
       "      <td>17</td>\n",
       "      <td>4</td>\n",
       "      <td>62</td>\n",
       "      <td>0</td>\n",
       "    </tr>\n",
       "    <tr>\n",
       "      <th>17</th>\n",
       "      <td>18</td>\n",
       "      <td>3</td>\n",
       "      <td>44</td>\n",
       "      <td>1</td>\n",
       "    </tr>\n",
       "    <tr>\n",
       "      <th>18</th>\n",
       "      <td>19</td>\n",
       "      <td>2</td>\n",
       "      <td>36</td>\n",
       "      <td>0</td>\n",
       "    </tr>\n",
       "    <tr>\n",
       "      <th>19</th>\n",
       "      <td>20</td>\n",
       "      <td>1</td>\n",
       "      <td>59</td>\n",
       "      <td>1</td>\n",
       "    </tr>\n",
       "  </tbody>\n",
       "</table>\n",
       "</div>"
      ],
      "text/plain": [
       "    Customer ID  Satisfaction Rating  Age  Gender\n",
       "0             1                    8   32       0\n",
       "1             2                    7   45       1\n",
       "2             3                    9   28       0\n",
       "3             4                    6   51       1\n",
       "4             5                   10   37       0\n",
       "5             6                    5   22       1\n",
       "6             7                    4   60       0\n",
       "7             8                    3   42       1\n",
       "8             9                    2   35       0\n",
       "9            10                    1   58       1\n",
       "10           11                    8   27       0\n",
       "11           12                    7   40       1\n",
       "12           13                    9   33       0\n",
       "13           14                    6   55       1\n",
       "14           15                   10   39       0\n",
       "15           16                    5   24       1\n",
       "16           17                    4   62       0\n",
       "17           18                    3   44       1\n",
       "18           19                    2   36       0\n",
       "19           20                    1   59       1"
      ]
     },
     "execution_count": 74,
     "metadata": {},
     "output_type": "execute_result"
    }
   ],
   "source": [
    "cust=pd.read_csv('customer-satisfaction.csv')\n",
    "cust"
   ]
  },
  {
   "cell_type": "code",
   "execution_count": 76,
   "id": "fd9a8be5-779f-4b01-9a3b-57a7a9cf7bad",
   "metadata": {},
   "outputs": [
    {
     "data": {
      "text/plain": [
       "(5.5, 5.5, 1)"
      ]
     },
     "execution_count": 76,
     "metadata": {},
     "output_type": "execute_result"
    }
   ],
   "source": [
    "cust['Satisfaction Rating'].mean(),cust['Satisfaction Rating'].median(), cust['Satisfaction Rating'].mode()[0]"
   ]
  },
  {
   "cell_type": "code",
   "execution_count": 81,
   "id": "18dc349a-a246-4398-8559-daa200ee7232",
   "metadata": {},
   "outputs": [],
   "source": [
    "#Analyze the data by grouping it by age groups and gender to identify any trends."
   ]
  },
  {
   "cell_type": "code",
   "execution_count": 100,
   "id": "fecaf3c7-0301-41f9-8a8f-b25af833f13b",
   "metadata": {},
   "outputs": [
    {
     "name": "stdout",
     "output_type": "stream",
     "text": [
      "Age  Gender\n",
      "22   1          5.0\n",
      "24   1          5.0\n",
      "27   0          8.0\n",
      "28   0          9.0\n",
      "32   0          8.0\n",
      "33   0          9.0\n",
      "35   0          2.0\n",
      "36   0          2.0\n",
      "37   0         10.0\n",
      "39   0         10.0\n",
      "40   1          7.0\n",
      "42   1          3.0\n",
      "44   1          3.0\n",
      "45   1          7.0\n",
      "51   1          6.0\n",
      "55   1          6.0\n",
      "58   1          1.0\n",
      "59   1          1.0\n",
      "60   0          4.0\n",
      "62   0          4.0\n",
      "Name: Satisfaction Rating, dtype: float64\n"
     ]
    }
   ],
   "source": [
    "grouped = cust.groupby(['Age', 'Gender'])['Satisfaction Rating'].mean()\n",
    "print(grouped)"
   ]
  },
  {
   "cell_type": "code",
   "execution_count": null,
   "id": "525331cc-0486-4f29-a830-fb202dea2916",
   "metadata": {},
   "outputs": [],
   "source": [
    "# Dataset: A CSV file house-info.csv containing columns such as House ID, Location, Number of Bedrooms, Square Footage, and Price.\n",
    "# Problem: Develop a Python program to calculate the first, second (median), and third quartiles of house prices. \n",
    "# Also, compute the interquartile range (IQR) and identify any outliers in the dataset."
   ]
  },
  {
   "cell_type": "code",
   "execution_count": 17,
   "id": "c3571f61-a97e-42b9-b211-fb1b62ed8028",
   "metadata": {},
   "outputs": [
    {
     "data": {
      "text/html": [
       "<div>\n",
       "<style scoped>\n",
       "    .dataframe tbody tr th:only-of-type {\n",
       "        vertical-align: middle;\n",
       "    }\n",
       "\n",
       "    .dataframe tbody tr th {\n",
       "        vertical-align: top;\n",
       "    }\n",
       "\n",
       "    .dataframe thead th {\n",
       "        text-align: right;\n",
       "    }\n",
       "</style>\n",
       "<table border=\"1\" class=\"dataframe\">\n",
       "  <thead>\n",
       "    <tr style=\"text-align: right;\">\n",
       "      <th></th>\n",
       "      <th>House ID</th>\n",
       "      <th>Location</th>\n",
       "      <th>Number of Bedrooms</th>\n",
       "      <th>Square Footage</th>\n",
       "      <th>Price</th>\n",
       "    </tr>\n",
       "  </thead>\n",
       "  <tbody>\n",
       "    <tr>\n",
       "      <th>0</th>\n",
       "      <td>1</td>\n",
       "      <td>Suburban</td>\n",
       "      <td>3</td>\n",
       "      <td>1800</td>\n",
       "      <td>$350,000</td>\n",
       "    </tr>\n",
       "    <tr>\n",
       "      <th>1</th>\n",
       "      <td>2</td>\n",
       "      <td>Urban</td>\n",
       "      <td>2</td>\n",
       "      <td>1200</td>\n",
       "      <td>$280,000</td>\n",
       "    </tr>\n",
       "    <tr>\n",
       "      <th>2</th>\n",
       "      <td>3</td>\n",
       "      <td>Rural</td>\n",
       "      <td>4</td>\n",
       "      <td>2500</td>\n",
       "      <td>$400,000</td>\n",
       "    </tr>\n",
       "    <tr>\n",
       "      <th>3</th>\n",
       "      <td>4</td>\n",
       "      <td>Suburban</td>\n",
       "      <td>3</td>\n",
       "      <td>1600</td>\n",
       "      <td>$320,000</td>\n",
       "    </tr>\n",
       "    <tr>\n",
       "      <th>4</th>\n",
       "      <td>5</td>\n",
       "      <td>Urban</td>\n",
       "      <td>1</td>\n",
       "      <td>800</td>\n",
       "      <td>$200,000</td>\n",
       "    </tr>\n",
       "    <tr>\n",
       "      <th>5</th>\n",
       "      <td>6</td>\n",
       "      <td>Rural</td>\n",
       "      <td>5</td>\n",
       "      <td>3000</td>\n",
       "      <td>$450,000</td>\n",
       "    </tr>\n",
       "    <tr>\n",
       "      <th>6</th>\n",
       "      <td>7</td>\n",
       "      <td>Suburban</td>\n",
       "      <td>2</td>\n",
       "      <td>1400</td>\n",
       "      <td>$290,000</td>\n",
       "    </tr>\n",
       "    <tr>\n",
       "      <th>7</th>\n",
       "      <td>8</td>\n",
       "      <td>Urban</td>\n",
       "      <td>3</td>\n",
       "      <td>1600</td>\n",
       "      <td>$310,000</td>\n",
       "    </tr>\n",
       "    <tr>\n",
       "      <th>8</th>\n",
       "      <td>9</td>\n",
       "      <td>Rural</td>\n",
       "      <td>4</td>\n",
       "      <td>2800</td>\n",
       "      <td>$420,000</td>\n",
       "    </tr>\n",
       "    <tr>\n",
       "      <th>9</th>\n",
       "      <td>10</td>\n",
       "      <td>Suburban</td>\n",
       "      <td>3</td>\n",
       "      <td>1700</td>\n",
       "      <td>$330,000</td>\n",
       "    </tr>\n",
       "    <tr>\n",
       "      <th>10</th>\n",
       "      <td>11</td>\n",
       "      <td>Urban</td>\n",
       "      <td>2</td>\n",
       "      <td>1100</td>\n",
       "      <td>$270,000</td>\n",
       "    </tr>\n",
       "    <tr>\n",
       "      <th>11</th>\n",
       "      <td>12</td>\n",
       "      <td>Rural</td>\n",
       "      <td>5</td>\n",
       "      <td>3200</td>\n",
       "      <td>$470,000</td>\n",
       "    </tr>\n",
       "    <tr>\n",
       "      <th>12</th>\n",
       "      <td>13</td>\n",
       "      <td>Suburban</td>\n",
       "      <td>3</td>\n",
       "      <td>1500</td>\n",
       "      <td>$900,000</td>\n",
       "    </tr>\n",
       "    <tr>\n",
       "      <th>13</th>\n",
       "      <td>14</td>\n",
       "      <td>Urban</td>\n",
       "      <td>1</td>\n",
       "      <td>900</td>\n",
       "      <td>$210,000</td>\n",
       "    </tr>\n",
       "    <tr>\n",
       "      <th>14</th>\n",
       "      <td>15</td>\n",
       "      <td>Rural</td>\n",
       "      <td>4</td>\n",
       "      <td>9600</td>\n",
       "      <td>$410,000</td>\n",
       "    </tr>\n",
       "    <tr>\n",
       "      <th>15</th>\n",
       "      <td>16</td>\n",
       "      <td>Suburban</td>\n",
       "      <td>3</td>\n",
       "      <td>1800</td>\n",
       "      <td>$340,000</td>\n",
       "    </tr>\n",
       "    <tr>\n",
       "      <th>16</th>\n",
       "      <td>17</td>\n",
       "      <td>Urban</td>\n",
       "      <td>2</td>\n",
       "      <td>1200</td>\n",
       "      <td>$280,000</td>\n",
       "    </tr>\n",
       "    <tr>\n",
       "      <th>17</th>\n",
       "      <td>18</td>\n",
       "      <td>Rural</td>\n",
       "      <td>5</td>\n",
       "      <td>2500</td>\n",
       "      <td>$400,000</td>\n",
       "    </tr>\n",
       "    <tr>\n",
       "      <th>18</th>\n",
       "      <td>19</td>\n",
       "      <td>Suburban</td>\n",
       "      <td>3</td>\n",
       "      <td>1600</td>\n",
       "      <td>$320,000</td>\n",
       "    </tr>\n",
       "    <tr>\n",
       "      <th>19</th>\n",
       "      <td>20</td>\n",
       "      <td>Urban</td>\n",
       "      <td>1</td>\n",
       "      <td>800</td>\n",
       "      <td>$200,000</td>\n",
       "    </tr>\n",
       "    <tr>\n",
       "      <th>20</th>\n",
       "      <td>21</td>\n",
       "      <td>Rural</td>\n",
       "      <td>4</td>\n",
       "      <td>3000</td>\n",
       "      <td>$950,000</td>\n",
       "    </tr>\n",
       "    <tr>\n",
       "      <th>21</th>\n",
       "      <td>22</td>\n",
       "      <td>Suburban</td>\n",
       "      <td>2</td>\n",
       "      <td>1400</td>\n",
       "      <td>$290,000</td>\n",
       "    </tr>\n",
       "    <tr>\n",
       "      <th>22</th>\n",
       "      <td>23</td>\n",
       "      <td>Urban</td>\n",
       "      <td>3</td>\n",
       "      <td>1600</td>\n",
       "      <td>$310,000</td>\n",
       "    </tr>\n",
       "    <tr>\n",
       "      <th>23</th>\n",
       "      <td>24</td>\n",
       "      <td>Rural</td>\n",
       "      <td>4</td>\n",
       "      <td>2800</td>\n",
       "      <td>$420,000</td>\n",
       "    </tr>\n",
       "    <tr>\n",
       "      <th>24</th>\n",
       "      <td>25</td>\n",
       "      <td>Suburban</td>\n",
       "      <td>3</td>\n",
       "      <td>1700</td>\n",
       "      <td>$330,000</td>\n",
       "    </tr>\n",
       "  </tbody>\n",
       "</table>\n",
       "</div>"
      ],
      "text/plain": [
       "    House ID  Location  Number of Bedrooms  Square Footage     Price\n",
       "0          1  Suburban                   3            1800  $350,000\n",
       "1          2     Urban                   2            1200  $280,000\n",
       "2          3     Rural                   4            2500  $400,000\n",
       "3          4  Suburban                   3            1600  $320,000\n",
       "4          5     Urban                   1             800  $200,000\n",
       "5          6     Rural                   5            3000  $450,000\n",
       "6          7  Suburban                   2            1400  $290,000\n",
       "7          8     Urban                   3            1600  $310,000\n",
       "8          9     Rural                   4            2800  $420,000\n",
       "9         10  Suburban                   3            1700  $330,000\n",
       "10        11     Urban                   2            1100  $270,000\n",
       "11        12     Rural                   5            3200  $470,000\n",
       "12        13  Suburban                   3            1500  $900,000\n",
       "13        14     Urban                   1             900  $210,000\n",
       "14        15     Rural                   4            9600  $410,000\n",
       "15        16  Suburban                   3            1800  $340,000\n",
       "16        17     Urban                   2            1200  $280,000\n",
       "17        18     Rural                   5            2500  $400,000\n",
       "18        19  Suburban                   3            1600  $320,000\n",
       "19        20     Urban                   1             800  $200,000\n",
       "20        21     Rural                   4            3000  $950,000\n",
       "21        22  Suburban                   2            1400  $290,000\n",
       "22        23     Urban                   3            1600  $310,000\n",
       "23        24     Rural                   4            2800  $420,000\n",
       "24        25  Suburban                   3            1700  $330,000"
      ]
     },
     "execution_count": 17,
     "metadata": {},
     "output_type": "execute_result"
    }
   ],
   "source": [
    "house=pd.read_csv('house-info.csv')\n",
    "house"
   ]
  },
  {
   "cell_type": "code",
   "execution_count": 18,
   "id": "c316b6ff-a491-430f-becb-42d2ed8bf9b8",
   "metadata": {},
   "outputs": [
    {
     "data": {
      "text/plain": [
       "count           25\n",
       "unique          17\n",
       "top       $420,000\n",
       "freq             2\n",
       "Name: Price, dtype: object"
      ]
     },
     "execution_count": 18,
     "metadata": {},
     "output_type": "execute_result"
    }
   ],
   "source": [
    "house['Price'].describe()"
   ]
  },
  {
   "cell_type": "code",
   "execution_count": 19,
   "id": "01f58ff8-f507-48d8-89d1-1c7f6eb14d34",
   "metadata": {},
   "outputs": [
    {
     "name": "stdout",
     "output_type": "stream",
     "text": [
      "<class 'pandas.core.series.Series'>\n",
      "RangeIndex: 25 entries, 0 to 24\n",
      "Series name: Price\n",
      "Non-Null Count  Dtype \n",
      "--------------  ----- \n",
      "25 non-null     object\n",
      "dtypes: object(1)\n",
      "memory usage: 332.0+ bytes\n"
     ]
    }
   ],
   "source": [
    "house['Price'].info()"
   ]
  },
  {
   "cell_type": "code",
   "execution_count": 36,
   "id": "cbd3680a-3cc1-486a-b2d7-57deed7cfd55",
   "metadata": {},
   "outputs": [
    {
     "name": "stderr",
     "output_type": "stream",
     "text": [
      "<>:1: SyntaxWarning: invalid escape sequence '\\$'\n",
      "<>:1: SyntaxWarning: invalid escape sequence '\\$'\n",
      "/tmp/ipykernel_16639/292239049.py:1: SyntaxWarning: invalid escape sequence '\\$'\n",
      "  price_new=house['Price'].replace({'\\$':'',',':''},regex=True).astype(float)\n"
     ]
    },
    {
     "data": {
      "text/plain": [
       "0     350000.0\n",
       "1     280000.0\n",
       "2     400000.0\n",
       "3     320000.0\n",
       "4     200000.0\n",
       "5     450000.0\n",
       "6     290000.0\n",
       "7     310000.0\n",
       "8     420000.0\n",
       "9     330000.0\n",
       "10    270000.0\n",
       "11    470000.0\n",
       "12    900000.0\n",
       "13    210000.0\n",
       "14    410000.0\n",
       "15    340000.0\n",
       "16    280000.0\n",
       "17    400000.0\n",
       "18    320000.0\n",
       "19    200000.0\n",
       "20    950000.0\n",
       "21    290000.0\n",
       "22    310000.0\n",
       "23    420000.0\n",
       "24    330000.0\n",
       "Name: Price, dtype: float64"
      ]
     },
     "execution_count": 36,
     "metadata": {},
     "output_type": "execute_result"
    }
   ],
   "source": [
    "price_new=house['Price'].replace({'\\$':'',',':''},regex=True).astype(float)\n",
    "price_new"
   ]
  },
  {
   "cell_type": "code",
   "execution_count": 37,
   "id": "c700cd5f-9189-4408-a593-44e87e53f4fd",
   "metadata": {},
   "outputs": [
    {
     "data": {
      "text/plain": [
       "0.25    290000.0\n",
       "0.50    330000.0\n",
       "0.75    410000.0\n",
       "Name: Price, dtype: float64"
      ]
     },
     "execution_count": 37,
     "metadata": {},
     "output_type": "execute_result"
    }
   ],
   "source": [
    "price_new.quantile([0.25,0.50,0.75])"
   ]
  },
  {
   "cell_type": "code",
   "execution_count": 32,
   "id": "6eea6bbe-7bcd-44ef-9a9c-6bd125d067d6",
   "metadata": {},
   "outputs": [],
   "source": [
    "import numpy as np"
   ]
  },
  {
   "cell_type": "code",
   "execution_count": 38,
   "id": "0a059b86-a9cd-47cd-bff4-bbaeec7389d2",
   "metadata": {},
   "outputs": [
    {
     "data": {
      "text/plain": [
       "(290000.0, 330000.0, 410000.0)"
      ]
     },
     "execution_count": 38,
     "metadata": {},
     "output_type": "execute_result"
    }
   ],
   "source": [
    "np.percentile(price_new,25),np.percentile(price_new,50),np.percentile(price_new,75)"
   ]
  },
  {
   "cell_type": "code",
   "execution_count": 40,
   "id": "08736a6f-4239-4f96-a3bb-2993c18854fa",
   "metadata": {},
   "outputs": [
    {
     "data": {
      "text/plain": [
       "120000.0"
      ]
     },
     "execution_count": 40,
     "metadata": {},
     "output_type": "execute_result"
    }
   ],
   "source": [
    "Q1=np.percentile(price_new,25)\n",
    "Q3=np.percentile(price_new,75)\n",
    "IQR=Q3-Q1\n",
    "IQR"
   ]
  },
  {
   "cell_type": "code",
   "execution_count": 41,
   "id": "d2f04af5-40cf-4d1e-84a2-dec00bf00573",
   "metadata": {},
   "outputs": [
    {
     "data": {
      "text/plain": [
       "(590000.0, 110000.0)"
      ]
     },
     "execution_count": 41,
     "metadata": {},
     "output_type": "execute_result"
    }
   ],
   "source": [
    "upper_fence=Q3+1.5*IQR\n",
    "lower_fence=Q1-1.5*IQR\n",
    "upper_fence,lower_fence"
   ]
  },
  {
   "cell_type": "code",
   "execution_count": 42,
   "id": "6e44fec7-917e-4e0f-bf6c-a39bc57c9a90",
   "metadata": {},
   "outputs": [
    {
     "data": {
      "text/plain": [
       "12    900000.0\n",
       "20    950000.0\n",
       "Name: Price, dtype: float64"
      ]
     },
     "execution_count": 42,
     "metadata": {},
     "output_type": "execute_result"
    }
   ],
   "source": [
    "price_new[price_new>upper_fence]"
   ]
  },
  {
   "cell_type": "code",
   "execution_count": 43,
   "id": "35b0af71-f9f4-4cc8-b593-f52a22e1b82d",
   "metadata": {},
   "outputs": [
    {
     "data": {
      "text/plain": [
       "Series([], Name: Price, dtype: float64)"
      ]
     },
     "execution_count": 43,
     "metadata": {},
     "output_type": "execute_result"
    }
   ],
   "source": [
    "price_new[price_new<lower_fence]"
   ]
  },
  {
   "cell_type": "code",
   "execution_count": null,
   "id": "63e1fe79-4981-40c0-8c13-d819b490b994",
   "metadata": {},
   "outputs": [],
   "source": [
    "# Dataset: A CSV file visitor-info.csv with columns such as Date, Number of Visitors, Average Session Duration, Bounce Rate and Conversion Rate.\n",
    "# Problem: Create a Python program to analyze the average, minimum, and maximum number of visitors per day. Investigate the relationship \n",
    "# between bounce rate and conversion rate using correlation analysis."
   ]
  },
  {
   "cell_type": "code",
   "execution_count": 44,
   "id": "6e2b7d7e-f6b9-4273-9b5c-ddd0505dd24b",
   "metadata": {},
   "outputs": [
    {
     "data": {
      "text/html": [
       "<div>\n",
       "<style scoped>\n",
       "    .dataframe tbody tr th:only-of-type {\n",
       "        vertical-align: middle;\n",
       "    }\n",
       "\n",
       "    .dataframe tbody tr th {\n",
       "        vertical-align: top;\n",
       "    }\n",
       "\n",
       "    .dataframe thead th {\n",
       "        text-align: right;\n",
       "    }\n",
       "</style>\n",
       "<table border=\"1\" class=\"dataframe\">\n",
       "  <thead>\n",
       "    <tr style=\"text-align: right;\">\n",
       "      <th></th>\n",
       "      <th>Date</th>\n",
       "      <th>Number of Visitors</th>\n",
       "      <th>Average Session Duration (seconds)</th>\n",
       "      <th>Bounce Rate (%)</th>\n",
       "      <th>Conversion Rate (%)</th>\n",
       "    </tr>\n",
       "  </thead>\n",
       "  <tbody>\n",
       "    <tr>\n",
       "      <th>0</th>\n",
       "      <td>2023-12-01</td>\n",
       "      <td>5000</td>\n",
       "      <td>120</td>\n",
       "      <td>25</td>\n",
       "      <td>2.0</td>\n",
       "    </tr>\n",
       "    <tr>\n",
       "      <th>1</th>\n",
       "      <td>2023-12-02</td>\n",
       "      <td>4500</td>\n",
       "      <td>130</td>\n",
       "      <td>22</td>\n",
       "      <td>3.0</td>\n",
       "    </tr>\n",
       "    <tr>\n",
       "      <th>2</th>\n",
       "      <td>2023-12-03</td>\n",
       "      <td>5500</td>\n",
       "      <td>115</td>\n",
       "      <td>28</td>\n",
       "      <td>1.5</td>\n",
       "    </tr>\n",
       "    <tr>\n",
       "      <th>3</th>\n",
       "      <td>2023-12-04</td>\n",
       "      <td>6000</td>\n",
       "      <td>125</td>\n",
       "      <td>20</td>\n",
       "      <td>2.5</td>\n",
       "    </tr>\n",
       "    <tr>\n",
       "      <th>4</th>\n",
       "      <td>2023-12-05</td>\n",
       "      <td>4800</td>\n",
       "      <td>135</td>\n",
       "      <td>23</td>\n",
       "      <td>2.0</td>\n",
       "    </tr>\n",
       "    <tr>\n",
       "      <th>5</th>\n",
       "      <td>2023-12-06</td>\n",
       "      <td>5200</td>\n",
       "      <td>120</td>\n",
       "      <td>25</td>\n",
       "      <td>2.2</td>\n",
       "    </tr>\n",
       "    <tr>\n",
       "      <th>6</th>\n",
       "      <td>2023-12-07</td>\n",
       "      <td>4700</td>\n",
       "      <td>130</td>\n",
       "      <td>22</td>\n",
       "      <td>2.8</td>\n",
       "    </tr>\n",
       "    <tr>\n",
       "      <th>7</th>\n",
       "      <td>2023-12-08</td>\n",
       "      <td>5600</td>\n",
       "      <td>115</td>\n",
       "      <td>28</td>\n",
       "      <td>1.7</td>\n",
       "    </tr>\n",
       "    <tr>\n",
       "      <th>8</th>\n",
       "      <td>2023-12-09</td>\n",
       "      <td>6200</td>\n",
       "      <td>125</td>\n",
       "      <td>20</td>\n",
       "      <td>2.7</td>\n",
       "    </tr>\n",
       "    <tr>\n",
       "      <th>9</th>\n",
       "      <td>2023-12-10</td>\n",
       "      <td>4900</td>\n",
       "      <td>135</td>\n",
       "      <td>23</td>\n",
       "      <td>2.1</td>\n",
       "    </tr>\n",
       "    <tr>\n",
       "      <th>10</th>\n",
       "      <td>2023-12-11</td>\n",
       "      <td>5100</td>\n",
       "      <td>120</td>\n",
       "      <td>25</td>\n",
       "      <td>2.3</td>\n",
       "    </tr>\n",
       "    <tr>\n",
       "      <th>11</th>\n",
       "      <td>2023-12-12</td>\n",
       "      <td>4600</td>\n",
       "      <td>130</td>\n",
       "      <td>22</td>\n",
       "      <td>2.9</td>\n",
       "    </tr>\n",
       "    <tr>\n",
       "      <th>12</th>\n",
       "      <td>2023-12-13</td>\n",
       "      <td>5400</td>\n",
       "      <td>115</td>\n",
       "      <td>28</td>\n",
       "      <td>1.8</td>\n",
       "    </tr>\n",
       "    <tr>\n",
       "      <th>13</th>\n",
       "      <td>2023-12-14</td>\n",
       "      <td>6100</td>\n",
       "      <td>125</td>\n",
       "      <td>20</td>\n",
       "      <td>2.6</td>\n",
       "    </tr>\n",
       "    <tr>\n",
       "      <th>14</th>\n",
       "      <td>2023-12-15</td>\n",
       "      <td>5000</td>\n",
       "      <td>135</td>\n",
       "      <td>23</td>\n",
       "      <td>2.2</td>\n",
       "    </tr>\n",
       "    <tr>\n",
       "      <th>15</th>\n",
       "      <td>2023-12-16</td>\n",
       "      <td>4500</td>\n",
       "      <td>120</td>\n",
       "      <td>25</td>\n",
       "      <td>2.4</td>\n",
       "    </tr>\n",
       "    <tr>\n",
       "      <th>16</th>\n",
       "      <td>2023-12-17</td>\n",
       "      <td>5500</td>\n",
       "      <td>130</td>\n",
       "      <td>22</td>\n",
       "      <td>2.7</td>\n",
       "    </tr>\n",
       "    <tr>\n",
       "      <th>17</th>\n",
       "      <td>2023-12-18</td>\n",
       "      <td>6000</td>\n",
       "      <td>115</td>\n",
       "      <td>28</td>\n",
       "      <td>1.6</td>\n",
       "    </tr>\n",
       "    <tr>\n",
       "      <th>18</th>\n",
       "      <td>2023-12-19</td>\n",
       "      <td>4800</td>\n",
       "      <td>125</td>\n",
       "      <td>20</td>\n",
       "      <td>2.5</td>\n",
       "    </tr>\n",
       "    <tr>\n",
       "      <th>19</th>\n",
       "      <td>2023-12-20</td>\n",
       "      <td>5200</td>\n",
       "      <td>135</td>\n",
       "      <td>23</td>\n",
       "      <td>2.1</td>\n",
       "    </tr>\n",
       "    <tr>\n",
       "      <th>20</th>\n",
       "      <td>2023-12-21</td>\n",
       "      <td>4700</td>\n",
       "      <td>120</td>\n",
       "      <td>25</td>\n",
       "      <td>2.3</td>\n",
       "    </tr>\n",
       "    <tr>\n",
       "      <th>21</th>\n",
       "      <td>2023-12-22</td>\n",
       "      <td>5600</td>\n",
       "      <td>130</td>\n",
       "      <td>22</td>\n",
       "      <td>2.9</td>\n",
       "    </tr>\n",
       "    <tr>\n",
       "      <th>22</th>\n",
       "      <td>2023-12-23</td>\n",
       "      <td>6200</td>\n",
       "      <td>115</td>\n",
       "      <td>28</td>\n",
       "      <td>1.8</td>\n",
       "    </tr>\n",
       "    <tr>\n",
       "      <th>23</th>\n",
       "      <td>2023-12-24</td>\n",
       "      <td>4900</td>\n",
       "      <td>125</td>\n",
       "      <td>20</td>\n",
       "      <td>2.6</td>\n",
       "    </tr>\n",
       "    <tr>\n",
       "      <th>24</th>\n",
       "      <td>2023-12-25</td>\n",
       "      <td>5100</td>\n",
       "      <td>135</td>\n",
       "      <td>23</td>\n",
       "      <td>2.2</td>\n",
       "    </tr>\n",
       "    <tr>\n",
       "      <th>25</th>\n",
       "      <td>2023-12-26</td>\n",
       "      <td>4600</td>\n",
       "      <td>120</td>\n",
       "      <td>25</td>\n",
       "      <td>2.4</td>\n",
       "    </tr>\n",
       "    <tr>\n",
       "      <th>26</th>\n",
       "      <td>2023-12-27</td>\n",
       "      <td>5400</td>\n",
       "      <td>130</td>\n",
       "      <td>22</td>\n",
       "      <td>2.7</td>\n",
       "    </tr>\n",
       "    <tr>\n",
       "      <th>27</th>\n",
       "      <td>2023-12-28</td>\n",
       "      <td>6100</td>\n",
       "      <td>115</td>\n",
       "      <td>28</td>\n",
       "      <td>1.6</td>\n",
       "    </tr>\n",
       "    <tr>\n",
       "      <th>28</th>\n",
       "      <td>2023-12-29</td>\n",
       "      <td>5000</td>\n",
       "      <td>125</td>\n",
       "      <td>20</td>\n",
       "      <td>2.5</td>\n",
       "    </tr>\n",
       "  </tbody>\n",
       "</table>\n",
       "</div>"
      ],
      "text/plain": [
       "          Date  Number of Visitors  Average Session Duration (seconds)  \\\n",
       "0   2023-12-01                5000                                 120   \n",
       "1   2023-12-02                4500                                 130   \n",
       "2   2023-12-03                5500                                 115   \n",
       "3   2023-12-04                6000                                 125   \n",
       "4   2023-12-05                4800                                 135   \n",
       "5   2023-12-06                5200                                 120   \n",
       "6   2023-12-07                4700                                 130   \n",
       "7   2023-12-08                5600                                 115   \n",
       "8   2023-12-09                6200                                 125   \n",
       "9   2023-12-10                4900                                 135   \n",
       "10  2023-12-11                5100                                 120   \n",
       "11  2023-12-12                4600                                 130   \n",
       "12  2023-12-13                5400                                 115   \n",
       "13  2023-12-14                6100                                 125   \n",
       "14  2023-12-15                5000                                 135   \n",
       "15  2023-12-16                4500                                 120   \n",
       "16  2023-12-17                5500                                 130   \n",
       "17  2023-12-18                6000                                 115   \n",
       "18  2023-12-19                4800                                 125   \n",
       "19  2023-12-20                5200                                 135   \n",
       "20  2023-12-21                4700                                 120   \n",
       "21  2023-12-22                5600                                 130   \n",
       "22  2023-12-23                6200                                 115   \n",
       "23  2023-12-24                4900                                 125   \n",
       "24  2023-12-25                5100                                 135   \n",
       "25  2023-12-26                4600                                 120   \n",
       "26  2023-12-27                5400                                 130   \n",
       "27  2023-12-28                6100                                 115   \n",
       "28  2023-12-29                5000                                 125   \n",
       "\n",
       "    Bounce Rate (%)  Conversion Rate (%)  \n",
       "0                25                  2.0  \n",
       "1                22                  3.0  \n",
       "2                28                  1.5  \n",
       "3                20                  2.5  \n",
       "4                23                  2.0  \n",
       "5                25                  2.2  \n",
       "6                22                  2.8  \n",
       "7                28                  1.7  \n",
       "8                20                  2.7  \n",
       "9                23                  2.1  \n",
       "10               25                  2.3  \n",
       "11               22                  2.9  \n",
       "12               28                  1.8  \n",
       "13               20                  2.6  \n",
       "14               23                  2.2  \n",
       "15               25                  2.4  \n",
       "16               22                  2.7  \n",
       "17               28                  1.6  \n",
       "18               20                  2.5  \n",
       "19               23                  2.1  \n",
       "20               25                  2.3  \n",
       "21               22                  2.9  \n",
       "22               28                  1.8  \n",
       "23               20                  2.6  \n",
       "24               23                  2.2  \n",
       "25               25                  2.4  \n",
       "26               22                  2.7  \n",
       "27               28                  1.6  \n",
       "28               20                  2.5  "
      ]
     },
     "execution_count": 44,
     "metadata": {},
     "output_type": "execute_result"
    }
   ],
   "source": [
    "visitor=pd.read_csv('visitor-info.csv')\n",
    "visitor"
   ]
  },
  {
   "cell_type": "code",
   "execution_count": 45,
   "id": "b2658234-36a3-4b1b-bf6f-e5f2f0d0b187",
   "metadata": {},
   "outputs": [
    {
     "data": {
      "text/plain": [
       "5248.275862068966"
      ]
     },
     "execution_count": 45,
     "metadata": {},
     "output_type": "execute_result"
    }
   ],
   "source": [
    "visitor['Number of Visitors'].mean()"
   ]
  },
  {
   "cell_type": "code",
   "execution_count": 46,
   "id": "61665adb-5cc2-4126-83c0-9d26c316952e",
   "metadata": {},
   "outputs": [
    {
     "data": {
      "text/plain": [
       "count      29.000000\n",
       "mean     5248.275862\n",
       "std       542.889550\n",
       "min      4500.000000\n",
       "25%      4800.000000\n",
       "50%      5100.000000\n",
       "75%      5600.000000\n",
       "max      6200.000000\n",
       "Name: Number of Visitors, dtype: float64"
      ]
     },
     "execution_count": 46,
     "metadata": {},
     "output_type": "execute_result"
    }
   ],
   "source": [
    "visitor['Number of Visitors'].describe()"
   ]
  },
  {
   "cell_type": "code",
   "execution_count": 47,
   "id": "d3181678-0356-432d-9248-c1282d3e0b24",
   "metadata": {},
   "outputs": [
    {
     "name": "stdout",
     "output_type": "stream",
     "text": [
      "<class 'pandas.core.series.Series'>\n",
      "RangeIndex: 29 entries, 0 to 28\n",
      "Series name: Number of Visitors\n",
      "Non-Null Count  Dtype\n",
      "--------------  -----\n",
      "29 non-null     int64\n",
      "dtypes: int64(1)\n",
      "memory usage: 364.0 bytes\n"
     ]
    }
   ],
   "source": [
    "visitor['Number of Visitors'].info()"
   ]
  },
  {
   "cell_type": "code",
   "execution_count": 48,
   "id": "0e33ca43-80be-419f-aa43-a909ae7f5666",
   "metadata": {},
   "outputs": [
    {
     "data": {
      "text/plain": [
       "pandas.core.frame.DataFrame"
      ]
     },
     "execution_count": 48,
     "metadata": {},
     "output_type": "execute_result"
    }
   ],
   "source": [
    "type(visitor)"
   ]
  },
  {
   "cell_type": "code",
   "execution_count": 50,
   "id": "0940ae2c-873d-4e54-abd8-6e5ce5c7d030",
   "metadata": {},
   "outputs": [
    {
     "data": {
      "text/plain": [
       "-0.8166050475362996"
      ]
     },
     "execution_count": 50,
     "metadata": {},
     "output_type": "execute_result"
    }
   ],
   "source": [
    "visitor['Bounce Rate (%)'].corr(visitor['Conversion Rate (%)'])"
   ]
  },
  {
   "cell_type": "code",
   "execution_count": 51,
   "id": "d90b68f1-cd5e-4f3c-99c0-624fa68bdd4c",
   "metadata": {},
   "outputs": [],
   "source": [
    "#Dataset: A dataset with columns (purchase-info.csv) such as Customer ID, Purchase Amount, Purchase Date, and Category.\n",
    "#Problem: Develop a Python program to calculate the average purchase amount for each category. \n",
    "#Also, find the most frequent purchase category and the customer who made the most purchases."
   ]
  },
  {
   "cell_type": "code",
   "execution_count": 52,
   "id": "7961e57b-9da8-4bf4-ad32-5804b39eed05",
   "metadata": {},
   "outputs": [
    {
     "data": {
      "text/html": [
       "<div>\n",
       "<style scoped>\n",
       "    .dataframe tbody tr th:only-of-type {\n",
       "        vertical-align: middle;\n",
       "    }\n",
       "\n",
       "    .dataframe tbody tr th {\n",
       "        vertical-align: top;\n",
       "    }\n",
       "\n",
       "    .dataframe thead th {\n",
       "        text-align: right;\n",
       "    }\n",
       "</style>\n",
       "<table border=\"1\" class=\"dataframe\">\n",
       "  <thead>\n",
       "    <tr style=\"text-align: right;\">\n",
       "      <th></th>\n",
       "      <th>Customer ID</th>\n",
       "      <th>Purchase Amount</th>\n",
       "      <th>Purchase Date</th>\n",
       "      <th>Category</th>\n",
       "    </tr>\n",
       "  </thead>\n",
       "  <tbody>\n",
       "    <tr>\n",
       "      <th>0</th>\n",
       "      <td>1001</td>\n",
       "      <td>50</td>\n",
       "      <td>2023-12-01</td>\n",
       "      <td>Electronics</td>\n",
       "    </tr>\n",
       "    <tr>\n",
       "      <th>1</th>\n",
       "      <td>1002</td>\n",
       "      <td>25</td>\n",
       "      <td>2023-12-02</td>\n",
       "      <td>Clothing</td>\n",
       "    </tr>\n",
       "    <tr>\n",
       "      <th>2</th>\n",
       "      <td>1003</td>\n",
       "      <td>75</td>\n",
       "      <td>2023-12-03</td>\n",
       "      <td>Home Goods</td>\n",
       "    </tr>\n",
       "    <tr>\n",
       "      <th>3</th>\n",
       "      <td>1004</td>\n",
       "      <td>40</td>\n",
       "      <td>2023-12-04</td>\n",
       "      <td>Electronics</td>\n",
       "    </tr>\n",
       "    <tr>\n",
       "      <th>4</th>\n",
       "      <td>1005</td>\n",
       "      <td>30</td>\n",
       "      <td>2023-12-05</td>\n",
       "      <td>Clothing</td>\n",
       "    </tr>\n",
       "    <tr>\n",
       "      <th>5</th>\n",
       "      <td>1006</td>\n",
       "      <td>60</td>\n",
       "      <td>2023-12-06</td>\n",
       "      <td>Home Goods</td>\n",
       "    </tr>\n",
       "    <tr>\n",
       "      <th>6</th>\n",
       "      <td>1007</td>\n",
       "      <td>20</td>\n",
       "      <td>2023-12-07</td>\n",
       "      <td>Electronics</td>\n",
       "    </tr>\n",
       "    <tr>\n",
       "      <th>7</th>\n",
       "      <td>1008</td>\n",
       "      <td>55</td>\n",
       "      <td>2023-12-08</td>\n",
       "      <td>Clothing</td>\n",
       "    </tr>\n",
       "    <tr>\n",
       "      <th>8</th>\n",
       "      <td>1009</td>\n",
       "      <td>80</td>\n",
       "      <td>2023-12-09</td>\n",
       "      <td>Home Goods</td>\n",
       "    </tr>\n",
       "    <tr>\n",
       "      <th>9</th>\n",
       "      <td>1010</td>\n",
       "      <td>35</td>\n",
       "      <td>2023-12-10</td>\n",
       "      <td>Electronics</td>\n",
       "    </tr>\n",
       "    <tr>\n",
       "      <th>10</th>\n",
       "      <td>1011</td>\n",
       "      <td>28</td>\n",
       "      <td>2023-12-11</td>\n",
       "      <td>Clothing</td>\n",
       "    </tr>\n",
       "    <tr>\n",
       "      <th>11</th>\n",
       "      <td>1012</td>\n",
       "      <td>65</td>\n",
       "      <td>2023-12-12</td>\n",
       "      <td>Home Goods</td>\n",
       "    </tr>\n",
       "    <tr>\n",
       "      <th>12</th>\n",
       "      <td>1013</td>\n",
       "      <td>18</td>\n",
       "      <td>2023-12-13</td>\n",
       "      <td>Electronics</td>\n",
       "    </tr>\n",
       "    <tr>\n",
       "      <th>13</th>\n",
       "      <td>1014</td>\n",
       "      <td>52</td>\n",
       "      <td>2023-12-14</td>\n",
       "      <td>Clothing</td>\n",
       "    </tr>\n",
       "    <tr>\n",
       "      <th>14</th>\n",
       "      <td>1015</td>\n",
       "      <td>78</td>\n",
       "      <td>2023-12-15</td>\n",
       "      <td>Home Goods</td>\n",
       "    </tr>\n",
       "    <tr>\n",
       "      <th>15</th>\n",
       "      <td>1016</td>\n",
       "      <td>32</td>\n",
       "      <td>2023-12-16</td>\n",
       "      <td>Electronics</td>\n",
       "    </tr>\n",
       "    <tr>\n",
       "      <th>16</th>\n",
       "      <td>1017</td>\n",
       "      <td>26</td>\n",
       "      <td>2023-12-17</td>\n",
       "      <td>Clothing</td>\n",
       "    </tr>\n",
       "    <tr>\n",
       "      <th>17</th>\n",
       "      <td>1018</td>\n",
       "      <td>63</td>\n",
       "      <td>2023-12-18</td>\n",
       "      <td>Home Goods</td>\n",
       "    </tr>\n",
       "    <tr>\n",
       "      <th>18</th>\n",
       "      <td>1019</td>\n",
       "      <td>16</td>\n",
       "      <td>2023-12-19</td>\n",
       "      <td>Electronics</td>\n",
       "    </tr>\n",
       "    <tr>\n",
       "      <th>19</th>\n",
       "      <td>1020</td>\n",
       "      <td>54</td>\n",
       "      <td>2023-12-20</td>\n",
       "      <td>Clothing</td>\n",
       "    </tr>\n",
       "    <tr>\n",
       "      <th>20</th>\n",
       "      <td>1021</td>\n",
       "      <td>76</td>\n",
       "      <td>2023-12-21</td>\n",
       "      <td>Home Goods</td>\n",
       "    </tr>\n",
       "    <tr>\n",
       "      <th>21</th>\n",
       "      <td>1022</td>\n",
       "      <td>34</td>\n",
       "      <td>2023-12-22</td>\n",
       "      <td>Electronics</td>\n",
       "    </tr>\n",
       "    <tr>\n",
       "      <th>22</th>\n",
       "      <td>1023</td>\n",
       "      <td>27</td>\n",
       "      <td>2023-12-23</td>\n",
       "      <td>Clothing</td>\n",
       "    </tr>\n",
       "    <tr>\n",
       "      <th>23</th>\n",
       "      <td>1024</td>\n",
       "      <td>62</td>\n",
       "      <td>2023-12-24</td>\n",
       "      <td>Home Goods</td>\n",
       "    </tr>\n",
       "    <tr>\n",
       "      <th>24</th>\n",
       "      <td>1025</td>\n",
       "      <td>17</td>\n",
       "      <td>2023-12-25</td>\n",
       "      <td>Electronics</td>\n",
       "    </tr>\n",
       "    <tr>\n",
       "      <th>25</th>\n",
       "      <td>1026</td>\n",
       "      <td>53</td>\n",
       "      <td>2023-12-26</td>\n",
       "      <td>Clothing</td>\n",
       "    </tr>\n",
       "    <tr>\n",
       "      <th>26</th>\n",
       "      <td>1027</td>\n",
       "      <td>75</td>\n",
       "      <td>2023-12-27</td>\n",
       "      <td>Home Goods</td>\n",
       "    </tr>\n",
       "    <tr>\n",
       "      <th>27</th>\n",
       "      <td>1028</td>\n",
       "      <td>35</td>\n",
       "      <td>2023-12-28</td>\n",
       "      <td>Electronics</td>\n",
       "    </tr>\n",
       "    <tr>\n",
       "      <th>28</th>\n",
       "      <td>1029</td>\n",
       "      <td>28</td>\n",
       "      <td>2023-12-29</td>\n",
       "      <td>Clothing</td>\n",
       "    </tr>\n",
       "    <tr>\n",
       "      <th>29</th>\n",
       "      <td>1030</td>\n",
       "      <td>65</td>\n",
       "      <td>2023-12-30</td>\n",
       "      <td>Home Goods</td>\n",
       "    </tr>\n",
       "  </tbody>\n",
       "</table>\n",
       "</div>"
      ],
      "text/plain": [
       "    Customer ID  Purchase Amount Purchase Date     Category\n",
       "0          1001               50    2023-12-01  Electronics\n",
       "1          1002               25    2023-12-02     Clothing\n",
       "2          1003               75    2023-12-03   Home Goods\n",
       "3          1004               40    2023-12-04  Electronics\n",
       "4          1005               30    2023-12-05     Clothing\n",
       "5          1006               60    2023-12-06   Home Goods\n",
       "6          1007               20    2023-12-07  Electronics\n",
       "7          1008               55    2023-12-08     Clothing\n",
       "8          1009               80    2023-12-09   Home Goods\n",
       "9          1010               35    2023-12-10  Electronics\n",
       "10         1011               28    2023-12-11     Clothing\n",
       "11         1012               65    2023-12-12   Home Goods\n",
       "12         1013               18    2023-12-13  Electronics\n",
       "13         1014               52    2023-12-14     Clothing\n",
       "14         1015               78    2023-12-15   Home Goods\n",
       "15         1016               32    2023-12-16  Electronics\n",
       "16         1017               26    2023-12-17     Clothing\n",
       "17         1018               63    2023-12-18   Home Goods\n",
       "18         1019               16    2023-12-19  Electronics\n",
       "19         1020               54    2023-12-20     Clothing\n",
       "20         1021               76    2023-12-21   Home Goods\n",
       "21         1022               34    2023-12-22  Electronics\n",
       "22         1023               27    2023-12-23     Clothing\n",
       "23         1024               62    2023-12-24   Home Goods\n",
       "24         1025               17    2023-12-25  Electronics\n",
       "25         1026               53    2023-12-26     Clothing\n",
       "26         1027               75    2023-12-27   Home Goods\n",
       "27         1028               35    2023-12-28  Electronics\n",
       "28         1029               28    2023-12-29     Clothing\n",
       "29         1030               65    2023-12-30   Home Goods"
      ]
     },
     "execution_count": 52,
     "metadata": {},
     "output_type": "execute_result"
    }
   ],
   "source": [
    "purchase=pd.read_csv('purchase-info.csv')\n",
    "purchase"
   ]
  },
  {
   "cell_type": "code",
   "execution_count": 53,
   "id": "9b0fd981-d504-401a-b4ea-a0de11592abd",
   "metadata": {},
   "outputs": [
    {
     "data": {
      "text/html": [
       "<div>\n",
       "<style scoped>\n",
       "    .dataframe tbody tr th:only-of-type {\n",
       "        vertical-align: middle;\n",
       "    }\n",
       "\n",
       "    .dataframe tbody tr th {\n",
       "        vertical-align: top;\n",
       "    }\n",
       "\n",
       "    .dataframe thead th {\n",
       "        text-align: right;\n",
       "    }\n",
       "</style>\n",
       "<table border=\"1\" class=\"dataframe\">\n",
       "  <thead>\n",
       "    <tr style=\"text-align: right;\">\n",
       "      <th></th>\n",
       "      <th>Customer ID</th>\n",
       "      <th>Purchase Amount</th>\n",
       "    </tr>\n",
       "  </thead>\n",
       "  <tbody>\n",
       "    <tr>\n",
       "      <th>count</th>\n",
       "      <td>30.000000</td>\n",
       "      <td>30.000000</td>\n",
       "    </tr>\n",
       "    <tr>\n",
       "      <th>mean</th>\n",
       "      <td>1015.500000</td>\n",
       "      <td>45.800000</td>\n",
       "    </tr>\n",
       "    <tr>\n",
       "      <th>std</th>\n",
       "      <td>8.803408</td>\n",
       "      <td>20.673822</td>\n",
       "    </tr>\n",
       "    <tr>\n",
       "      <th>min</th>\n",
       "      <td>1001.000000</td>\n",
       "      <td>16.000000</td>\n",
       "    </tr>\n",
       "    <tr>\n",
       "      <th>25%</th>\n",
       "      <td>1008.250000</td>\n",
       "      <td>28.000000</td>\n",
       "    </tr>\n",
       "    <tr>\n",
       "      <th>50%</th>\n",
       "      <td>1015.500000</td>\n",
       "      <td>45.000000</td>\n",
       "    </tr>\n",
       "    <tr>\n",
       "      <th>75%</th>\n",
       "      <td>1022.750000</td>\n",
       "      <td>62.750000</td>\n",
       "    </tr>\n",
       "    <tr>\n",
       "      <th>max</th>\n",
       "      <td>1030.000000</td>\n",
       "      <td>80.000000</td>\n",
       "    </tr>\n",
       "  </tbody>\n",
       "</table>\n",
       "</div>"
      ],
      "text/plain": [
       "       Customer ID  Purchase Amount\n",
       "count    30.000000        30.000000\n",
       "mean   1015.500000        45.800000\n",
       "std       8.803408        20.673822\n",
       "min    1001.000000        16.000000\n",
       "25%    1008.250000        28.000000\n",
       "50%    1015.500000        45.000000\n",
       "75%    1022.750000        62.750000\n",
       "max    1030.000000        80.000000"
      ]
     },
     "execution_count": 53,
     "metadata": {},
     "output_type": "execute_result"
    }
   ],
   "source": [
    "purchase.describe()"
   ]
  },
  {
   "cell_type": "code",
   "execution_count": 63,
   "id": "179b90fd-1c75-4591-9bb5-f35e640a003a",
   "metadata": {},
   "outputs": [
    {
     "name": "stdout",
     "output_type": "stream",
     "text": [
      "<class 'pandas.core.frame.DataFrame'>\n",
      "RangeIndex: 30 entries, 0 to 29\n",
      "Data columns (total 4 columns):\n",
      " #   Column           Non-Null Count  Dtype \n",
      "---  ------           --------------  ----- \n",
      " 0   Customer ID      30 non-null     int64 \n",
      " 1   Purchase Amount  30 non-null     int64 \n",
      " 2   Purchase Date    30 non-null     object\n",
      " 3   Category         30 non-null     object\n",
      "dtypes: int64(2), object(2)\n",
      "memory usage: 1.1+ KB\n"
     ]
    }
   ],
   "source": [
    "purchase.info()"
   ]
  },
  {
   "cell_type": "code",
   "execution_count": 62,
   "id": "4bddf589-d83b-4326-bbad-7d9caa274fa4",
   "metadata": {},
   "outputs": [
    {
     "data": {
      "text/plain": [
       "Category\n",
       "Clothing       37.8\n",
       "Electronics    29.7\n",
       "Home Goods     69.9\n",
       "Name: Purchase Amount, dtype: float64"
      ]
     },
     "execution_count": 62,
     "metadata": {},
     "output_type": "execute_result"
    }
   ],
   "source": [
    "purchase.groupby('Category')['Purchase Amount'].mean()"
   ]
  },
  {
   "cell_type": "code",
   "execution_count": 64,
   "id": "bd57c981-e705-4eda-b4a7-7b38269ae71f",
   "metadata": {},
   "outputs": [
    {
     "data": {
      "text/plain": [
       "array([1001, 1002, 1003, 1004, 1005, 1006, 1007, 1008, 1009, 1010, 1011,\n",
       "       1012, 1013, 1014, 1015, 1016, 1017, 1018, 1019, 1020, 1021, 1022,\n",
       "       1023, 1024, 1025, 1026, 1027, 1028, 1029, 1030])"
      ]
     },
     "execution_count": 64,
     "metadata": {},
     "output_type": "execute_result"
    }
   ],
   "source": [
    "purchase['Customer ID'].unique()"
   ]
  },
  {
   "cell_type": "code",
   "execution_count": 65,
   "id": "d3ea00f1-c1a4-47ba-a7ba-7b43bc4857d9",
   "metadata": {},
   "outputs": [
    {
     "data": {
      "text/plain": [
       "Customer ID\n",
       "1001    1\n",
       "1002    1\n",
       "1029    1\n",
       "1028    1\n",
       "1027    1\n",
       "1026    1\n",
       "1025    1\n",
       "1024    1\n",
       "1023    1\n",
       "1022    1\n",
       "1021    1\n",
       "1020    1\n",
       "1019    1\n",
       "1018    1\n",
       "1017    1\n",
       "1016    1\n",
       "1015    1\n",
       "1014    1\n",
       "1013    1\n",
       "1012    1\n",
       "1011    1\n",
       "1010    1\n",
       "1009    1\n",
       "1008    1\n",
       "1007    1\n",
       "1006    1\n",
       "1005    1\n",
       "1004    1\n",
       "1003    1\n",
       "1030    1\n",
       "Name: count, dtype: int64"
      ]
     },
     "execution_count": 65,
     "metadata": {},
     "output_type": "execute_result"
    }
   ],
   "source": [
    "purchase['Customer ID'].value_counts()"
   ]
  },
  {
   "cell_type": "code",
   "execution_count": 69,
   "id": "cb657b02-5e70-4ec0-945f-bff6d9d9c87b",
   "metadata": {},
   "outputs": [
    {
     "data": {
      "text/plain": [
       "0       Clothing\n",
       "1    Electronics\n",
       "2     Home Goods\n",
       "Name: Category, dtype: object"
      ]
     },
     "execution_count": 69,
     "metadata": {},
     "output_type": "execute_result"
    }
   ],
   "source": [
    "purchase['Category'].mode()"
   ]
  },
  {
   "cell_type": "code",
   "execution_count": 70,
   "id": "3bcfdea4-77bb-4538-ab03-d99eeb6db472",
   "metadata": {},
   "outputs": [
    {
     "data": {
      "text/plain": [
       "1001"
      ]
     },
     "execution_count": 70,
     "metadata": {},
     "output_type": "execute_result"
    }
   ],
   "source": [
    "purchase['Customer ID'].value_counts().idxmax()"
   ]
  },
  {
   "cell_type": "code",
   "execution_count": null,
   "id": "a7451b41-30cc-4cb8-90aa-64108984c34c",
   "metadata": {},
   "outputs": [],
   "source": []
  }
 ],
 "metadata": {
  "kernelspec": {
   "display_name": "Python 3 (ipykernel)",
   "language": "python",
   "name": "python3"
  },
  "language_info": {
   "codemirror_mode": {
    "name": "ipython",
    "version": 3
   },
   "file_extension": ".py",
   "mimetype": "text/x-python",
   "name": "python",
   "nbconvert_exporter": "python",
   "pygments_lexer": "ipython3",
   "version": "3.12.2"
  }
 },
 "nbformat": 4,
 "nbformat_minor": 5
}
