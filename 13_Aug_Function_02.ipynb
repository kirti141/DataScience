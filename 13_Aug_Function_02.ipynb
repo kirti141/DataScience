{
 "cells": [
  {
   "cell_type": "code",
   "execution_count": 1,
   "id": "beeac3c0-5dec-4658-a3e5-9872148664e7",
   "metadata": {},
   "outputs": [],
   "source": [
    "### Functions in Python"
   ]
  },
  {
   "cell_type": "code",
   "execution_count": 11,
   "id": "1d269951-1072-4855-adc1-e377027d8ade",
   "metadata": {},
   "outputs": [],
   "source": [
    "##Function definition\n",
    "def show():\n",
    "    print('hello world')\n",
    "    print('good-day')"
   ]
  },
  {
   "cell_type": "code",
   "execution_count": 13,
   "id": "a2695648-174f-4e08-9102-04542d36c1c6",
   "metadata": {},
   "outputs": [
    {
     "name": "stdout",
     "output_type": "stream",
     "text": [
      "hello world\n",
      "good-day\n"
     ]
    }
   ],
   "source": [
    "##Function call\n",
    "show()"
   ]
  },
  {
   "cell_type": "code",
   "execution_count": 15,
   "id": "5270cd63-a567-4b3d-a7af-d28b713fcd6a",
   "metadata": {},
   "outputs": [],
   "source": [
    "##Parametrized function/Arguments"
   ]
  },
  {
   "cell_type": "code",
   "execution_count": 17,
   "id": "99fee117-54e0-440b-a52c-5e163caabb23",
   "metadata": {},
   "outputs": [],
   "source": [
    "def square(n):\n",
    "    sq=n*n\n",
    "    print(sq)\n",
    "    "
   ]
  },
  {
   "cell_type": "code",
   "execution_count": 19,
   "id": "f09b0c00-43ce-4958-b732-63d13819f0b8",
   "metadata": {},
   "outputs": [
    {
     "name": "stdout",
     "output_type": "stream",
     "text": [
      "81\n"
     ]
    }
   ],
   "source": [
    "square(9)"
   ]
  },
  {
   "cell_type": "code",
   "execution_count": 29,
   "id": "3081894b-a5ab-406b-9b0a-e089e8ca86d5",
   "metadata": {},
   "outputs": [
    {
     "name": "stdin",
     "output_type": "stream",
     "text": [
      " 5\n"
     ]
    },
    {
     "name": "stdout",
     "output_type": "stream",
     "text": [
      "25\n"
     ]
    }
   ],
   "source": [
    "square(int(input()))"
   ]
  },
  {
   "cell_type": "code",
   "execution_count": 31,
   "id": "2258d497-290b-4916-9726-f9095e5cab49",
   "metadata": {},
   "outputs": [],
   "source": [
    "###Returing the values"
   ]
  },
  {
   "cell_type": "code",
   "execution_count": 33,
   "id": "df8ba901-8887-4e1e-9add-4f85dacd090a",
   "metadata": {},
   "outputs": [],
   "source": [
    "def compare(x,y):\n",
    "    if x>y:\n",
    "        return x\n",
    "    else:\n",
    "        return y"
   ]
  },
  {
   "cell_type": "code",
   "execution_count": 44,
   "id": "84b0edd7-400b-49e7-8df5-113738b7f2ba",
   "metadata": {},
   "outputs": [],
   "source": [
    "t=compare(5,7)"
   ]
  },
  {
   "cell_type": "code",
   "execution_count": 46,
   "id": "f468cb28-909a-4ae0-bef1-be640f2833de",
   "metadata": {},
   "outputs": [
    {
     "data": {
      "text/plain": [
       "7"
      ]
     },
     "execution_count": 46,
     "metadata": {},
     "output_type": "execute_result"
    }
   ],
   "source": [
    "t"
   ]
  },
  {
   "cell_type": "code",
   "execution_count": 48,
   "id": "4aa7c4f7-fa15-40ae-87ff-4ebbb6df1a89",
   "metadata": {},
   "outputs": [
    {
     "data": {
      "text/plain": [
       "40"
      ]
     },
     "execution_count": 48,
     "metadata": {},
     "output_type": "execute_result"
    }
   ],
   "source": [
    "5*compare(4,)"
   ]
  },
  {
   "cell_type": "code",
   "execution_count": 54,
   "id": "c32ab9b1-6b33-4e0e-aa2f-e43857ee6b9a",
   "metadata": {},
   "outputs": [],
   "source": [
    "def calc(num):\n",
    "    sq=num*num\n",
    "    cu=sq*num\n",
    "    return sq,cu"
   ]
  },
  {
   "cell_type": "code",
   "execution_count": 56,
   "id": "3dbec241-cc57-493d-a89d-a06d1f99d0be",
   "metadata": {},
   "outputs": [
    {
     "data": {
      "text/plain": [
       "(9, 27)"
      ]
     },
     "execution_count": 56,
     "metadata": {},
     "output_type": "execute_result"
    }
   ],
   "source": [
    "calc((3))"
   ]
  },
  {
   "cell_type": "code",
   "execution_count": 58,
   "id": "379bf999-ddcd-4c5b-a1b9-cb423843fac2",
   "metadata": {},
   "outputs": [
    {
     "name": "stdout",
     "output_type": "stream",
     "text": [
      "square and cube are (9, 27)\n"
     ]
    }
   ],
   "source": [
    "print(\"square and cube are\",calc((3)))"
   ]
  },
  {
   "cell_type": "code",
   "execution_count": 62,
   "id": "6d6f3393-db71-46f2-a538-6726675019ef",
   "metadata": {},
   "outputs": [
    {
     "name": "stdout",
     "output_type": "stream",
     "text": [
      "square and cube are 81 729\n"
     ]
    }
   ],
   "source": [
    "x,y=calc(9)\n",
    "print(\"square and cube are\",x,y)"
   ]
  },
  {
   "cell_type": "code",
   "execution_count": 64,
   "id": "fcdd81a2-d6f0-41be-9b4c-797082c579c4",
   "metadata": {},
   "outputs": [
    {
     "name": "stdout",
     "output_type": "stream",
     "text": [
      "Help on built-in function max in module builtins:\n",
      "\n",
      "max(...)\n",
      "    max(iterable, *[, default=obj, key=func]) -> value\n",
      "    max(arg1, arg2, *args, *[, key=func]) -> value\n",
      "\n",
      "    With a single iterable argument, return its biggest item. The\n",
      "    default keyword-only argument specifies an object to return if\n",
      "    the provided iterable is empty.\n",
      "    With two or more arguments, return the largest argument.\n",
      "\n"
     ]
    }
   ],
   "source": [
    "help(max)"
   ]
  },
  {
   "cell_type": "code",
   "execution_count": 70,
   "id": "6138bf0f-ecbf-4c0f-9ae7-830496c5e75d",
   "metadata": {},
   "outputs": [
    {
     "name": "stdout",
     "output_type": "stream",
     "text": [
      "Help on method_descriptor:\n",
      "\n",
      "pop(self, index=-1, /) unbound builtins.list method\n",
      "    Remove and return item at index (default last).\n",
      "\n",
      "    Raises IndexError if list is empty or index is out of range.\n",
      "\n"
     ]
    }
   ],
   "source": [
    "help(list.pop)"
   ]
  },
  {
   "cell_type": "code",
   "execution_count": 83,
   "id": "c6389606-03e0-465e-8820-cde7ad127743",
   "metadata": {},
   "outputs": [
    {
     "data": {
      "text/plain": [
       "(16, 64)"
      ]
     },
     "execution_count": 83,
     "metadata": {},
     "output_type": "execute_result"
    }
   ],
   "source": [
    "calc(4)"
   ]
  },
  {
   "cell_type": "code",
   "execution_count": 85,
   "id": "945d575b-9784-4b71-a522-f44b74069988",
   "metadata": {},
   "outputs": [],
   "source": [
    "##Default parameters/arguments"
   ]
  },
  {
   "cell_type": "code",
   "execution_count": 105,
   "id": "68118fcc-59d3-4f5c-bff4-d3c95ce2ffd1",
   "metadata": {},
   "outputs": [],
   "source": [
    "def add(x=5,y=7,z=8):\n",
    "    a=x+y+z\n",
    "    return a"
   ]
  },
  {
   "cell_type": "code",
   "execution_count": 107,
   "id": "df0b204f-da24-4b9e-97b0-102066bc27cc",
   "metadata": {},
   "outputs": [
    {
     "name": "stdout",
     "output_type": "stream",
     "text": [
      "call_1: 30\n"
     ]
    }
   ],
   "source": [
    "print(\"call_1:\",add(4,6,20))"
   ]
  },
  {
   "cell_type": "code",
   "execution_count": 109,
   "id": "b1063393-a36a-49f3-96dc-af2d5558dbea",
   "metadata": {},
   "outputs": [
    {
     "name": "stdout",
     "output_type": "stream",
     "text": [
      "call_2: 18\n"
     ]
    }
   ],
   "source": [
    "print(\"call_2:\",add(4,6))"
   ]
  },
  {
   "cell_type": "code",
   "execution_count": 111,
   "id": "d5a9272e-2377-47fe-9c96-54639689a2a5",
   "metadata": {},
   "outputs": [
    {
     "name": "stdout",
     "output_type": "stream",
     "text": [
      "call_3: 19\n"
     ]
    }
   ],
   "source": [
    "print(\"call_3:\",add(4))"
   ]
  },
  {
   "cell_type": "code",
   "execution_count": 113,
   "id": "13783d55-ba5f-4cd3-9714-d4bfbaf7cbf4",
   "metadata": {},
   "outputs": [
    {
     "name": "stdout",
     "output_type": "stream",
     "text": [
      "call_4: 20\n"
     ]
    }
   ],
   "source": [
    "print(\"call_4:\",add())"
   ]
  },
  {
   "cell_type": "code",
   "execution_count": 116,
   "id": "cda326ee-6a7d-49f0-a370-60f359fadfb7",
   "metadata": {},
   "outputs": [
    {
     "name": "stdout",
     "output_type": "stream",
     "text": [
      "call_5: 17\n"
     ]
    }
   ],
   "source": [
    "print(\"call_5:\",add(y=4))"
   ]
  },
  {
   "cell_type": "code",
   "execution_count": 118,
   "id": "fb173aa3-7226-4c4a-9053-3353ec5a069b",
   "metadata": {},
   "outputs": [],
   "source": []
  },
  {
   "cell_type": "code",
   "execution_count": 120,
   "id": "c388ce44-3fa2-4a75-93ea-e2e1f3e26a91",
   "metadata": {},
   "outputs": [],
   "source": []
  },
  {
   "cell_type": "code",
   "execution_count": null,
   "id": "212108f6-1ef1-4d76-9563-b174f18e1faa",
   "metadata": {},
   "outputs": [],
   "source": []
  }
 ],
 "metadata": {
  "kernelspec": {
   "display_name": "Python 3 (ipykernel)",
   "language": "python",
   "name": "python3"
  },
  "language_info": {
   "codemirror_mode": {
    "name": "ipython",
    "version": 3
   },
   "file_extension": ".py",
   "mimetype": "text/x-python",
   "name": "python",
   "nbconvert_exporter": "python",
   "pygments_lexer": "ipython3",
   "version": "3.12.4"
  }
 },
 "nbformat": 4,
 "nbformat_minor": 5
}
