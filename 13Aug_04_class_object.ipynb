{
 "cells": [
  {
   "cell_type": "markdown",
   "id": "d8428747-521c-4e9f-89db-c5d8ccb454d3",
   "metadata": {},
   "source": [
    "#### Classes and Objects"
   ]
  },
  {
   "cell_type": "code",
   "execution_count": 3,
   "id": "97b2bcd9-172c-417e-b700-a244f5fe9eac",
   "metadata": {},
   "outputs": [],
   "source": [
    "##Define the class"
   ]
  },
  {
   "cell_type": "code",
   "execution_count": 60,
   "id": "3c50b0a8-40cb-4cf9-a9a3-d5bde0e8f12a",
   "metadata": {},
   "outputs": [],
   "source": [
    "class Person:\n",
    "    #constructor\n",
    "    def __init__(self,n,a):\n",
    "        self.name = n  #instance variables\n",
    "        self.age = a     ## name and age are attributes/properties \n",
    "    def show(self): ##function/behavior\n",
    "            print(\"my data\", self.name, self.age)\n",
    "    def isElegibleForVoting(self):\n",
    "        if self.age>=21:\n",
    "                return True\n",
    "        else:\n",
    "                return False\n",
    "        "
   ]
  },
  {
   "cell_type": "code",
   "execution_count": 62,
   "id": "efc7c28f-017b-4f1d-93ab-b0b619b9759f",
   "metadata": {},
   "outputs": [],
   "source": [
    "##create the object\n",
    "ob1=Person(\"anil\",30)"
   ]
  },
  {
   "cell_type": "code",
   "execution_count": 64,
   "id": "837223be-5e47-4009-a0cb-5661079e8ed9",
   "metadata": {},
   "outputs": [
    {
     "data": {
      "text/plain": [
       "('anil', 30)"
      ]
     },
     "execution_count": 64,
     "metadata": {},
     "output_type": "execute_result"
    }
   ],
   "source": [
    "ob1.name,ob1.age"
   ]
  },
  {
   "cell_type": "code",
   "execution_count": 74,
   "id": "2cd18741-7201-40fb-81a6-faa380aa64bf",
   "metadata": {},
   "outputs": [],
   "source": [
    "ob2=Person(\"kirti\",5)"
   ]
  },
  {
   "cell_type": "code",
   "execution_count": 76,
   "id": "c2a07cd3-d828-4808-add3-bfb9ef532746",
   "metadata": {},
   "outputs": [
    {
     "data": {
      "text/plain": [
       "('kirti', 5)"
      ]
     },
     "execution_count": 76,
     "metadata": {},
     "output_type": "execute_result"
    }
   ],
   "source": [
    "ob2.name,ob2.age"
   ]
  },
  {
   "cell_type": "code",
   "execution_count": 78,
   "id": "6061543b-c550-4229-b064-47f0e263bbb8",
   "metadata": {},
   "outputs": [
    {
     "name": "stdout",
     "output_type": "stream",
     "text": [
      "my data anil 30\n"
     ]
    }
   ],
   "source": [
    "ob1.show()"
   ]
  },
  {
   "cell_type": "code",
   "execution_count": 83,
   "id": "a84a0a53-51ec-4fac-a63e-7ce642f754c4",
   "metadata": {},
   "outputs": [
    {
     "data": {
      "text/plain": [
       "False"
      ]
     },
     "execution_count": 83,
     "metadata": {},
     "output_type": "execute_result"
    }
   ],
   "source": [
    "ob2.isElegibleForVoting()"
   ]
  },
  {
   "cell_type": "code",
   "execution_count": 85,
   "id": "8fb863e5-feb1-4755-8106-806407afa5df",
   "metadata": {},
   "outputs": [
    {
     "name": "stdout",
     "output_type": "stream",
     "text": [
      "my data kirti 5\n"
     ]
    }
   ],
   "source": [
    "ob2.show()"
   ]
  },
  {
   "cell_type": "code",
   "execution_count": 87,
   "id": "b38d44ae-8c5c-4863-9e2e-679d1f80ae13",
   "metadata": {},
   "outputs": [
    {
     "name": "stdout",
     "output_type": "stream",
     "text": [
      "my data anil 30\n"
     ]
    }
   ],
   "source": [
    "ob1.show()"
   ]
  },
  {
   "cell_type": "code",
   "execution_count": 91,
   "id": "09681360-17b4-49e2-8e99-ca4e9155912c",
   "metadata": {},
   "outputs": [
    {
     "data": {
      "text/plain": [
       "True"
      ]
     },
     "execution_count": 91,
     "metadata": {},
     "output_type": "execute_result"
    }
   ],
   "source": [
    "ob1.isElegibleForVoting()"
   ]
  },
  {
   "cell_type": "code",
   "execution_count": 93,
   "id": "41173766-06c5-4301-acc4-c5453de91e51",
   "metadata": {},
   "outputs": [],
   "source": [
    "##ASSIGNMENTS"
   ]
  },
  {
   "cell_type": "code",
   "execution_count": null,
   "id": "60a33273-2665-4588-9498-2c75f8963cac",
   "metadata": {},
   "outputs": [],
   "source": []
  }
 ],
 "metadata": {
  "kernelspec": {
   "display_name": "Python 3 (ipykernel)",
   "language": "python",
   "name": "python3"
  },
  "language_info": {
   "codemirror_mode": {
    "name": "ipython",
    "version": 3
   },
   "file_extension": ".py",
   "mimetype": "text/x-python",
   "name": "python",
   "nbconvert_exporter": "python",
   "pygments_lexer": "ipython3",
   "version": "3.12.4"
  }
 },
 "nbformat": 4,
 "nbformat_minor": 5
}
