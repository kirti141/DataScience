{
 "cells": [
  {
   "cell_type": "code",
   "execution_count": 7,
   "id": "8ec2d2bc-02a9-41b6-9a52-2f372a929ac5",
   "metadata": {},
   "outputs": [
    {
     "data": {
      "text/plain": [
       "'C:\\\\Users\\\\rajesh'"
      ]
     },
     "execution_count": 7,
     "metadata": {},
     "output_type": "execute_result"
    }
   ],
   "source": [
    "pwd"
   ]
  },
  {
   "cell_type": "code",
   "execution_count": null,
   "id": "82efd3c7-9df9-4689-9719-2d11472933d8",
   "metadata": {},
   "outputs": [],
   "source": [
    "##MySQL (xampp) should be on."
   ]
  },
  {
   "cell_type": "code",
   "execution_count": null,
   "id": "56062e48-2429-4bca-a461-216706d25b21",
   "metadata": {},
   "outputs": [],
   "source": [
    "!pip install mysql.connector"
   ]
  },
  {
   "cell_type": "code",
   "execution_count": 10,
   "id": "e7daf39b-a1bf-4c55-8cf7-dd60c5af8b5e",
   "metadata": {},
   "outputs": [],
   "source": [
    "import mysql.connector as sql\n",
    "import pandas as pd\n",
    "db_connection=sql.connect(host='localhost', database='mydb',user='root',password='')\n",
    "db_cursor=db_connection.cursor()\n",
    "db_cursor.execute('SELECT * FROM student')\n",
    "table_rows=db_cursor.fetchall()\n",
    "df=pd.DataFrame(table_rows, columns=[x[0] for x in db_cursor.description])\n"
   ]
  },
  {
   "cell_type": "code",
   "execution_count": 11,
   "id": "7049f896-b519-4275-b9e8-f26d55e4e1c4",
   "metadata": {},
   "outputs": [
    {
     "data": {
      "text/html": [
       "<div>\n",
       "<style scoped>\n",
       "    .dataframe tbody tr th:only-of-type {\n",
       "        vertical-align: middle;\n",
       "    }\n",
       "\n",
       "    .dataframe tbody tr th {\n",
       "        vertical-align: top;\n",
       "    }\n",
       "\n",
       "    .dataframe thead th {\n",
       "        text-align: right;\n",
       "    }\n",
       "</style>\n",
       "<table border=\"1\" class=\"dataframe\">\n",
       "  <thead>\n",
       "    <tr style=\"text-align: right;\">\n",
       "      <th></th>\n",
       "      <th>roll</th>\n",
       "      <th>name</th>\n",
       "      <th>marks</th>\n",
       "      <th>class</th>\n",
       "    </tr>\n",
       "  </thead>\n",
       "  <tbody>\n",
       "    <tr>\n",
       "      <th>0</th>\n",
       "      <td>1</td>\n",
       "      <td>AJAY</td>\n",
       "      <td>70.12</td>\n",
       "      <td>TY</td>\n",
       "    </tr>\n",
       "    <tr>\n",
       "      <th>1</th>\n",
       "      <td>2</td>\n",
       "      <td>ram</td>\n",
       "      <td>81.95</td>\n",
       "      <td>FY</td>\n",
       "    </tr>\n",
       "    <tr>\n",
       "      <th>2</th>\n",
       "      <td>3</td>\n",
       "      <td>Aditya</td>\n",
       "      <td>604.95</td>\n",
       "      <td>SY</td>\n",
       "    </tr>\n",
       "    <tr>\n",
       "      <th>3</th>\n",
       "      <td>4</td>\n",
       "      <td>gaurav</td>\n",
       "      <td>81.95</td>\n",
       "      <td>TY</td>\n",
       "    </tr>\n",
       "    <tr>\n",
       "      <th>4</th>\n",
       "      <td>6</td>\n",
       "      <td>ramu</td>\n",
       "      <td>44.50</td>\n",
       "      <td>SY</td>\n",
       "    </tr>\n",
       "    <tr>\n",
       "      <th>5</th>\n",
       "      <td>7</td>\n",
       "      <td>kirti</td>\n",
       "      <td>72.30</td>\n",
       "      <td>SY</td>\n",
       "    </tr>\n",
       "    <tr>\n",
       "      <th>6</th>\n",
       "      <td>8</td>\n",
       "      <td>rani</td>\n",
       "      <td>82.95</td>\n",
       "      <td>SY</td>\n",
       "    </tr>\n",
       "    <tr>\n",
       "      <th>7</th>\n",
       "      <td>9</td>\n",
       "      <td>ranjeet</td>\n",
       "      <td>22.95</td>\n",
       "      <td>TY</td>\n",
       "    </tr>\n",
       "    <tr>\n",
       "      <th>8</th>\n",
       "      <td>10</td>\n",
       "      <td>rajneeti</td>\n",
       "      <td>5.95</td>\n",
       "      <td>FY</td>\n",
       "    </tr>\n",
       "    <tr>\n",
       "      <th>9</th>\n",
       "      <td>11</td>\n",
       "      <td>raman</td>\n",
       "      <td>84.95</td>\n",
       "      <td>TY</td>\n",
       "    </tr>\n",
       "    <tr>\n",
       "      <th>10</th>\n",
       "      <td>12</td>\n",
       "      <td>raju</td>\n",
       "      <td>12.95</td>\n",
       "      <td>TY</td>\n",
       "    </tr>\n",
       "    <tr>\n",
       "      <th>11</th>\n",
       "      <td>13</td>\n",
       "      <td>ranjeet</td>\n",
       "      <td>64.50</td>\n",
       "      <td>TY</td>\n",
       "    </tr>\n",
       "    <tr>\n",
       "      <th>12</th>\n",
       "      <td>15</td>\n",
       "      <td>anil</td>\n",
       "      <td>67.00</td>\n",
       "      <td>TY</td>\n",
       "    </tr>\n",
       "  </tbody>\n",
       "</table>\n",
       "</div>"
      ],
      "text/plain": [
       "    roll      name   marks class\n",
       "0      1      AJAY   70.12    TY\n",
       "1      2       ram   81.95    FY\n",
       "2      3    Aditya  604.95    SY\n",
       "3      4    gaurav   81.95    TY\n",
       "4      6      ramu   44.50    SY\n",
       "5      7     kirti   72.30    SY\n",
       "6      8      rani   82.95    SY\n",
       "7      9   ranjeet   22.95    TY\n",
       "8     10  rajneeti    5.95    FY\n",
       "9     11     raman   84.95    TY\n",
       "10    12      raju   12.95    TY\n",
       "11    13   ranjeet   64.50    TY\n",
       "12    15      anil   67.00    TY"
      ]
     },
     "execution_count": 11,
     "metadata": {},
     "output_type": "execute_result"
    }
   ],
   "source": [
    "df"
   ]
  },
  {
   "cell_type": "code",
   "execution_count": 12,
   "id": "1d682970-1690-4168-8d98-c28bc0237bca",
   "metadata": {},
   "outputs": [
    {
     "data": {
      "text/plain": [
       "[(1, 'AJAY', 70.12, 'TY'),\n",
       " (2, 'ram', 81.95, 'FY'),\n",
       " (3, 'Aditya', 604.95, 'SY'),\n",
       " (4, 'gaurav', 81.95, 'TY'),\n",
       " (6, 'ramu', 44.5, 'SY'),\n",
       " (7, 'kirti', 72.3, 'SY'),\n",
       " (8, 'rani', 82.95, 'SY'),\n",
       " (9, 'ranjeet', 22.95, 'TY'),\n",
       " (10, 'rajneeti', 5.95, 'FY'),\n",
       " (11, 'raman', 84.95, 'TY'),\n",
       " (12, 'raju', 12.95, 'TY'),\n",
       " (13, 'ranjeet', 64.5, 'TY'),\n",
       " (15, 'anil', 67.0, 'TY')]"
      ]
     },
     "execution_count": 12,
     "metadata": {},
     "output_type": "execute_result"
    }
   ],
   "source": [
    "table_rows"
   ]
  },
  {
   "cell_type": "code",
   "execution_count": null,
   "id": "a57fd4f6-6cb0-4a62-b0d0-a2f5f4564b8e",
   "metadata": {},
   "outputs": [],
   "source": []
  }
 ],
 "metadata": {
  "kernelspec": {
   "display_name": "Python 3 (ipykernel)",
   "language": "python",
   "name": "python3"
  },
  "language_info": {
   "codemirror_mode": {
    "name": "ipython",
    "version": 3
   },
   "file_extension": ".py",
   "mimetype": "text/x-python",
   "name": "python",
   "nbconvert_exporter": "python",
   "pygments_lexer": "ipython3",
   "version": "3.12.4"
  }
 },
 "nbformat": 4,
 "nbformat_minor": 5
}
